{
 "cells": [
  {
   "cell_type": "markdown",
   "metadata": {},
   "source": [
    "# Библиотека numpy"
   ]
  },
  {
   "cell_type": "markdown",
   "metadata": {},
   "source": [
    "**NumPy** — это библиотека языка Python, добавляющая поддержку больших многомерных массивов и матриц, вместе с большой библиотекой высокоуровневых (и очень быстрых) математических функций для операций с этими массивами."
   ]
  },
  {
   "cell_type": "markdown",
   "metadata": {},
   "source": [
    "Основным объектом NumPy является однородный многомерный массив (в numpy называется numpy.ndarray). Это многомерный массив элементов (обычно чисел), одного типа.\n",
    "\n",
    "Наиболее важные атрибуты объектов ndarray:\n",
    "\n",
    "**ndarray.ndim** - число измерений (чаще их называют \"оси\") массива.\n",
    "\n",
    "**ndarray.shape** - размеры массива, его форма. Это кортеж натуральных чисел, показывающий длину массива по каждой оси. Для матрицы из n строк и m столбов, shape будет (n,m). Число элементов кортежа shape равно ndim.\n",
    "\n",
    "**ndarray.size** - количество элементов массива. Очевидно, равно произведению всех элементов атрибута shape.\n",
    "\n",
    "**ndarray.dtype** - объект, описывающий тип элементов массива. Можно определить dtype, используя стандартные типы данных Python. NumPy здесь предоставляет целый букет возможностей, как встроенных, например: bool_, character, int8, int16, int32, int64, float8, float16, float32, float64, complex64, object_, так и возможность определить собственные типы данных, в том числе и составные.\n",
    "\n",
    "**ndarray.itemsize** - размер каждого элемента массива в байтах."
   ]
  },
  {
   "cell_type": "markdown",
   "metadata": {},
   "source": [
    "# Создание массивов"
   ]
  },
  {
   "cell_type": "markdown",
   "metadata": {},
   "source": [
    "В NumPy существует много способов создать массив. Один из наиболее простых - создать массив из обычных списков или кортежей Python, используя функцию numpy.array() (запомните: array - функция, создающая объект типа ndarray):"
   ]
  },
  {
   "cell_type": "code",
   "execution_count": 1,
   "metadata": {},
   "outputs": [
    {
     "data": {
      "text/plain": [
       "array([1, 2, 3])"
      ]
     },
     "execution_count": 1,
     "metadata": {},
     "output_type": "execute_result"
    }
   ],
   "source": [
    "import numpy as np\n",
    "\n",
    "a = np.array([1, 2, 3])\n",
    "a"
   ]
  },
  {
   "cell_type": "code",
   "execution_count": null,
   "metadata": {},
   "outputs": [],
   "source": [
    "type(a)"
   ]
  },
  {
   "cell_type": "markdown",
   "metadata": {},
   "source": [
    "Функция array() трансформирует вложенные последовательности в многомерные массивы. Тип элементов массива зависит от типа элементов исходной последовательности (но можно и переопределить его в момент создания)."
   ]
  },
  {
   "cell_type": "code",
   "execution_count": 2,
   "metadata": {},
   "outputs": [
    {
     "data": {
      "text/plain": [
       "array([[1.5, 2. , 3. ],\n",
       "       [4. , 5. , 6. ]])"
      ]
     },
     "execution_count": 2,
     "metadata": {},
     "output_type": "execute_result"
    }
   ],
   "source": [
    "b = np.array([[1.5, 2, 3], [4, 5, 6]])\n",
    "b"
   ]
  },
  {
   "cell_type": "markdown",
   "metadata": {},
   "source": [
    "Можно также переопределить тип в момент создания:"
   ]
  },
  {
   "cell_type": "code",
   "execution_count": 4,
   "metadata": {},
   "outputs": [
    {
     "name": "stderr",
     "output_type": "stream",
     "text": [
      "/tmp/ipykernel_5321/2311286893.py:1: DeprecationWarning: `np.complex` is a deprecated alias for the builtin `complex`. To silence this warning, use `complex` by itself. Doing this will not modify any behavior and is safe. If you specifically wanted the numpy scalar type, use `np.complex128` here.\n",
      "Deprecated in NumPy 1.20; for more details and guidance: https://numpy.org/devdocs/release/1.20.0-notes.html#deprecations\n",
      "  b = np.array([[1.5, 2, 3], [4, 5, 6]], dtype=np.complex)\n"
     ]
    },
    {
     "data": {
      "text/plain": [
       "array([[1.5+0.j, 2. +0.j, 3. +0.j],\n",
       "       [4. +0.j, 5. +0.j, 6. +0.j]])"
      ]
     },
     "execution_count": 4,
     "metadata": {},
     "output_type": "execute_result"
    }
   ],
   "source": [
    "b = np.array([[1.5, 2, 3], [4, 5, 6]], dtype=np.complex)\n",
    "b"
   ]
  },
  {
   "cell_type": "markdown",
   "metadata": {},
   "source": [
    "Функция array() не единственная функция для создания массивов. Обычно элементы массива вначале неизвестны, а массив, в котором они будут храниться, уже нужен. Поэтому имеется несколько функций для того, чтобы создавать массивы с каким-то исходным содержимым (по умолчанию тип создаваемого массива — float64).\n",
    "\n",
    "Функция zeros() создает массив из нулей, а функция ones() — массив из единиц. Обе функции принимают кортеж с размерами, и аргумент dtype:"
   ]
  },
  {
   "cell_type": "code",
   "execution_count": 5,
   "metadata": {},
   "outputs": [
    {
     "data": {
      "text/plain": [
       "array([[0., 0., 0., 0., 0.],\n",
       "       [0., 0., 0., 0., 0.],\n",
       "       [0., 0., 0., 0., 0.]])"
      ]
     },
     "execution_count": 5,
     "metadata": {},
     "output_type": "execute_result"
    }
   ],
   "source": [
    "a = np.zeros((3, 5))\n",
    "a"
   ]
  },
  {
   "cell_type": "code",
   "execution_count": 6,
   "metadata": {},
   "outputs": [
    {
     "data": {
      "text/plain": [
       "array([[[1., 1.],\n",
       "        [1., 1.]],\n",
       "\n",
       "       [[1., 1.],\n",
       "        [1., 1.]]])"
      ]
     },
     "execution_count": 6,
     "metadata": {},
     "output_type": "execute_result"
    }
   ],
   "source": [
    "a = np.ones((2, 2, 2))\n",
    "a"
   ]
  },
  {
   "cell_type": "markdown",
   "metadata": {},
   "source": [
    "Функция eye() создаёт единичную матрицу (двумерный массив)"
   ]
  },
  {
   "cell_type": "code",
   "execution_count": 7,
   "metadata": {},
   "outputs": [
    {
     "data": {
      "text/plain": [
       "array([[1., 0., 0., 0., 0.],\n",
       "       [0., 1., 0., 0., 0.],\n",
       "       [0., 0., 1., 0., 0.],\n",
       "       [0., 0., 0., 1., 0.],\n",
       "       [0., 0., 0., 0., 1.]])"
      ]
     },
     "execution_count": 7,
     "metadata": {},
     "output_type": "execute_result"
    }
   ],
   "source": [
    "a = np.eye(5)\n",
    "a"
   ]
  },
  {
   "cell_type": "markdown",
   "metadata": {},
   "source": [
    "Функция empty() создает массив без его заполнения. Исходное содержимое случайно и зависит от состояния памяти на момент создания массива (то есть от того мусора, что в ней хранится):"
   ]
  },
  {
   "cell_type": "code",
   "execution_count": 8,
   "metadata": {},
   "outputs": [
    {
     "data": {
      "text/plain": [
       "array([[6.91961203e-310, 1.82094574e-316, 2.41907520e-312],\n",
       "       [2.14321575e-312, 2.46151512e-312, 2.31297541e-312],\n",
       "       [2.35541533e-312, 2.05833592e-312, 2.22809558e-312]])"
      ]
     },
     "execution_count": 8,
     "metadata": {},
     "output_type": "execute_result"
    }
   ],
   "source": [
    "a = np.empty((3, 3))\n",
    "a"
   ]
  },
  {
   "cell_type": "markdown",
   "metadata": {},
   "source": [
    "Для создания последовательностей чисел, в NumPy имеется функция arange(), аналогичная встроенной в Python range(), только вместо списков она возвращает массивы, и принимает не только целые значения:"
   ]
  },
  {
   "cell_type": "code",
   "execution_count": 9,
   "metadata": {},
   "outputs": [
    {
     "data": {
      "text/plain": [
       "array([10, 15, 20, 25])"
      ]
     },
     "execution_count": 9,
     "metadata": {},
     "output_type": "execute_result"
    }
   ],
   "source": [
    "a = np.arange(10, 30, 5)\n",
    "a"
   ]
  },
  {
   "cell_type": "code",
   "execution_count": 10,
   "metadata": {},
   "outputs": [
    {
     "data": {
      "text/plain": [
       "array([0. , 0.1, 0.2, 0.3, 0.4, 0.5, 0.6, 0.7, 0.8, 0.9])"
      ]
     },
     "execution_count": 10,
     "metadata": {},
     "output_type": "execute_result"
    }
   ],
   "source": [
    "a = np.arange(0, 1, 0.1)\n",
    "a"
   ]
  },
  {
   "cell_type": "markdown",
   "metadata": {},
   "source": [
    "Вообще, при использовании arange() с аргументами типа float, сложно быть уверенным в том, сколько элементов будет получено (из-за ограничения точности чисел с плавающей запятой). Поэтому, в таких случаях обычно лучше использовать функцию linspace(), которая вместо шага в качестве одного из аргументов принимает число, равное количеству нужных элементов:"
   ]
  },
  {
   "cell_type": "code",
   "execution_count": 11,
   "metadata": {},
   "outputs": [
    {
     "data": {
      "text/plain": [
       "array([0.  , 0.25, 0.5 , 0.75, 1.  , 1.25, 1.5 , 1.75, 2.  ])"
      ]
     },
     "execution_count": 11,
     "metadata": {},
     "output_type": "execute_result"
    }
   ],
   "source": [
    "a = np.linspace(0, 2, 9)  # 9 чисел от 0 до 2 включительно\n",
    "a"
   ]
  },
  {
   "cell_type": "markdown",
   "metadata": {},
   "source": [
    "# Изменение формы массивов"
   ]
  },
  {
   "cell_type": "markdown",
   "metadata": {},
   "source": [
    "Предположим, у нас имеется массив, состоящий из десяти чисел: "
   ]
  },
  {
   "cell_type": "code",
   "execution_count": 12,
   "metadata": {},
   "outputs": [
    {
     "data": {
      "text/plain": [
       "array([0, 1, 2, 3, 4, 5, 6, 7, 8, 9])"
      ]
     },
     "execution_count": 12,
     "metadata": {},
     "output_type": "execute_result"
    }
   ],
   "source": [
    "a = np.arange(10)\n",
    "a"
   ]
  },
  {
   "cell_type": "markdown",
   "metadata": {},
   "source": [
    "Для изменения формы этого массива, достаточно указать свойству shape кортеж с новыми размерами, например, так: "
   ]
  },
  {
   "cell_type": "code",
   "execution_count": 13,
   "metadata": {},
   "outputs": [
    {
     "data": {
      "text/plain": [
       "array([[0, 1, 2, 3, 4],\n",
       "       [5, 6, 7, 8, 9]])"
      ]
     },
     "execution_count": 13,
     "metadata": {},
     "output_type": "execute_result"
    }
   ],
   "source": [
    "a.shape = 2, 5\n",
    "a"
   ]
  },
  {
   "cell_type": "markdown",
   "metadata": {},
   "source": [
    "В результате изменится представление массива, на которое ссылается переменная a. Если же требуется создать новое представление массива, сохранив прежнее, то следует воспользоваться методом reshape(): "
   ]
  },
  {
   "cell_type": "markdown",
   "metadata": {},
   "source": [
    "b = a.reshape(10)\n",
    "b"
   ]
  },
  {
   "cell_type": "markdown",
   "metadata": {},
   "source": [
    "Cсылки b и a будут использовать одни и те же данные, то есть, изменение массива через b: "
   ]
  },
  {
   "cell_type": "code",
   "execution_count": 14,
   "metadata": {},
   "outputs": [],
   "source": [
    "b[0] = -1 # приведет к изменению соответствующего элемента массива a: "
   ]
  },
  {
   "cell_type": "markdown",
   "metadata": {},
   "source": [
    "У свойства shape и метода reshape() размерность должна охватывать все элементы массива. Например, вот такая команда: "
   ]
  },
  {
   "cell_type": "code",
   "execution_count": 15,
   "metadata": {},
   "outputs": [
    {
     "ename": "ValueError",
     "evalue": "cannot reshape array of size 10 into shape (3,3)",
     "output_type": "error",
     "traceback": [
      "\u001b[0;31m---------------------------------------------------------------------------\u001b[0m",
      "\u001b[0;31mValueError\u001b[0m                                Traceback (most recent call last)",
      "\u001b[0;32m/tmp/ipykernel_5321/2444272619.py\u001b[0m in \u001b[0;36m<module>\u001b[0;34m\u001b[0m\n\u001b[0;32m----> 1\u001b[0;31m \u001b[0ma\u001b[0m\u001b[0;34m.\u001b[0m\u001b[0mshape\u001b[0m \u001b[0;34m=\u001b[0m \u001b[0;36m3\u001b[0m\u001b[0;34m,\u001b[0m \u001b[0;36m3\u001b[0m\u001b[0;34m\u001b[0m\u001b[0;34m\u001b[0m\u001b[0m\n\u001b[0m",
      "\u001b[0;31mValueError\u001b[0m: cannot reshape array of size 10 into shape (3,3)"
     ]
    }
   ],
   "source": [
    "a.shape = 3, 3"
   ]
  },
  {
   "cell_type": "markdown",
   "metadata": {},
   "source": [
    "приведет к ошибке, т.к. размерность 3x3 = 9 элементов, а в массиве 10 элементов. Здесь всегда должно выполняться равенство:\n",
    "\n",
    "n1 x n2 x … x nN = число элементов массива "
   ]
  },
  {
   "cell_type": "markdown",
   "metadata": {},
   "source": [
    "Но допускается делать так: "
   ]
  },
  {
   "cell_type": "code",
   "execution_count": 16,
   "metadata": {},
   "outputs": [
    {
     "data": {
      "text/plain": [
       "array([[0, 1],\n",
       "       [2, 3],\n",
       "       [4, 5],\n",
       "       [6, 7],\n",
       "       [8, 9]])"
      ]
     },
     "execution_count": 16,
     "metadata": {},
     "output_type": "execute_result"
    }
   ],
   "source": [
    "a.shape = -1, 2\n",
    "a"
   ]
  },
  {
   "cell_type": "markdown",
   "metadata": {},
   "source": [
    "Отрицательное значение -1 означает автоматическое вычисление размерности по первой оси. По второй берется значение 2. В этом случае получим размерность 5x2.\n",
    "\n",
    "То же самое можно делать и в методе reshape(): "
   ]
  },
  {
   "cell_type": "code",
   "execution_count": 17,
   "metadata": {},
   "outputs": [
    {
     "name": "stdout",
     "output_type": "stream",
     "text": [
      "[[-1.+0.j -1.+0.j -1.+0.j]\n",
      " [ 4.+0.j  5.+0.j  6.+0.j]]\n",
      "[[-1.+0.j -1.+0.j -1.+0.j]\n",
      " [ 4.+0.j  5.+0.j  6.+0.j]]\n"
     ]
    }
   ],
   "source": [
    "b.reshape(-1, 1)\n",
    "print(b)\n",
    "b.reshape(1, -1)\n",
    "print(b)"
   ]
  },
  {
   "cell_type": "markdown",
   "metadata": {},
   "source": [
    "Используя отрицательный индекс, можно делать и такие преобразования: "
   ]
  },
  {
   "cell_type": "code",
   "execution_count": 18,
   "metadata": {},
   "outputs": [
    {
     "name": "stdout",
     "output_type": "stream",
     "text": [
      "[[-1.+0.j -1.+0.j -1.+0.j]\n",
      " [ 4.+0.j  5.+0.j  6.+0.j]]\n",
      "[[-1.+0.j -1.+0.j -1.+0.j]\n",
      " [ 4.+0.j  5.+0.j  6.+0.j]]\n"
     ]
    }
   ],
   "source": [
    "b.reshape(2, -1)\n",
    "print(b)\n",
    "b.reshape(-1, 2)\n",
    "print(b)"
   ]
  },
  {
   "cell_type": "markdown",
   "metadata": {},
   "source": [
    "Если нам требуется многомерный массив преобразовать в обычный одномерный, то можно воспользоваться методом ravel(), который возвращает новое представление, не меняя текущего: "
   ]
  },
  {
   "cell_type": "code",
   "execution_count": 19,
   "metadata": {},
   "outputs": [
    {
     "data": {
      "text/plain": [
       "array([-1.+0.j, -1.+0.j, -1.+0.j,  4.+0.j,  5.+0.j,  6.+0.j])"
      ]
     },
     "execution_count": 19,
     "metadata": {},
     "output_type": "execute_result"
    }
   ],
   "source": [
    "c = b.ravel() # с ссылается на одномерное представление массива\n",
    "c"
   ]
  },
  {
   "cell_type": "markdown",
   "metadata": {},
   "source": [
    "Если же нам нужно текущий массив преобразовать в одномерный, то это можно сделать так: "
   ]
  },
  {
   "cell_type": "code",
   "execution_count": 20,
   "metadata": {},
   "outputs": [],
   "source": [
    "b.shape = -1"
   ]
  },
  {
   "cell_type": "markdown",
   "metadata": {},
   "source": [
    "Помимо свойства shape можно использовать метод resize, который выполняет подобную операцию с текущим массивом. Например: "
   ]
  },
  {
   "cell_type": "code",
   "execution_count": 21,
   "metadata": {},
   "outputs": [],
   "source": [
    "a.resize(2, 5) # массив 2x5"
   ]
  },
  {
   "cell_type": "markdown",
   "metadata": {},
   "source": [
    "Но, как мы уже говорили, вот такая строчка приведет к ошибке: "
   ]
  },
  {
   "cell_type": "code",
   "execution_count": null,
   "metadata": {},
   "outputs": [],
   "source": [
    "a.resize(3, 3)  # ошибка: 3x3 != 10"
   ]
  },
  {
   "cell_type": "code",
   "execution_count": null,
   "metadata": {},
   "outputs": [],
   "source": []
  },
  {
   "cell_type": "markdown",
   "metadata": {},
   "source": [
    "# Транспонирование матриц и векторов"
   ]
  },
  {
   "cell_type": "markdown",
   "metadata": {},
   "source": [
    "Очень часто в математических операциях требуется выполнять транспонирование матриц и векторов, то есть, заменять строки на столбцы. Например, если имеется матрица (двумерный массив): "
   ]
  },
  {
   "cell_type": "code",
   "execution_count": 22,
   "metadata": {},
   "outputs": [
    {
     "data": {
      "text/plain": [
       "array([[ 1,  2,  3],\n",
       "       [ 1,  4,  9],\n",
       "       [ 1,  8, 27]])"
      ]
     },
     "execution_count": 22,
     "metadata": {},
     "output_type": "execute_result"
    }
   ],
   "source": [
    "a = np.array([(1, 2, 3), (1, 4, 9), (1, 8, 27)])\n",
    "a"
   ]
  },
  {
   "cell_type": "markdown",
   "metadata": {},
   "source": [
    "то операция транспонирования может быть реализована так: "
   ]
  },
  {
   "cell_type": "code",
   "execution_count": 23,
   "metadata": {},
   "outputs": [
    {
     "data": {
      "text/plain": [
       "array([[ 1,  1,  1],\n",
       "       [ 2,  4,  8],\n",
       "       [ 3,  9, 27]])"
      ]
     },
     "execution_count": 23,
     "metadata": {},
     "output_type": "execute_result"
    }
   ],
   "source": [
    "b = a.T\n",
    "b"
   ]
  },
  {
   "cell_type": "markdown",
   "metadata": {},
   "source": [
    "Обратите внимание, мы здесь создаем лишь новое представление тех же самых данных массива a. И изменение элементов в массиве b: "
   ]
  },
  {
   "cell_type": "code",
   "execution_count": 24,
   "metadata": {},
   "outputs": [],
   "source": [
    "b[0, 1] = 10"
   ]
  },
  {
   "cell_type": "markdown",
   "metadata": {},
   "source": [
    "приведет к соответствующему изменению значения элемента и массива a. Это следует помнить, используя операцию транспонирования.\n",
    "\n",
    "Транспонирование векторов работает несколько иначе. Предположим, имеется одномерный массив: "
   ]
  },
  {
   "cell_type": "code",
   "execution_count": 25,
   "metadata": {},
   "outputs": [
    {
     "data": {
      "text/plain": [
       "array([1, 2, 3, 4, 5, 6, 7, 8, 9])"
      ]
     },
     "execution_count": 25,
     "metadata": {},
     "output_type": "execute_result"
    }
   ],
   "source": [
    "x = np.arange(1, 10)\n",
    "x"
   ]
  },
  {
   "cell_type": "markdown",
   "metadata": {},
   "source": [
    "и мы выполняем операцию транспонирования: "
   ]
  },
  {
   "cell_type": "code",
   "execution_count": 26,
   "metadata": {},
   "outputs": [
    {
     "data": {
      "text/plain": [
       "array([1, 2, 3, 4, 5, 6, 7, 8, 9])"
      ]
     },
     "execution_count": 26,
     "metadata": {},
     "output_type": "execute_result"
    }
   ],
   "source": [
    "x.T\n",
    "x"
   ]
  },
  {
   "cell_type": "markdown",
   "metadata": {},
   "source": [
    "В результате ничего не изменилось: вектор как был строкой, так строкой и остался. Почему? Дело в том, что массив x имеет только одну размерность, поэтому здесь нет понятия строк и столбцов. Соответственно, операция транспонирования ни к чему не приводит. Чтобы получить ожидаемый эффект, нужно добавить к массиву еще одну ось, например, так: "
   ]
  },
  {
   "cell_type": "code",
   "execution_count": 27,
   "metadata": {},
   "outputs": [],
   "source": [
    "x.shape = 1, -1"
   ]
  },
  {
   "cell_type": "markdown",
   "metadata": {},
   "source": [
    "И теперь, при транспонировании получим вектор-столбец: "
   ]
  },
  {
   "cell_type": "code",
   "execution_count": 28,
   "metadata": {},
   "outputs": [
    {
     "name": "stdout",
     "output_type": "stream",
     "text": [
      "[[1]\n",
      " [2]\n",
      " [3]\n",
      " [4]\n",
      " [5]\n",
      " [6]\n",
      " [7]\n",
      " [8]\n",
      " [9]]\n",
      "[[1 2 3 4 5 6 7 8 9]]\n"
     ]
    }
   ],
   "source": [
    "print(x.T)\n",
    "print(x)"
   ]
  },
  {
   "cell_type": "markdown",
   "metadata": {},
   "source": [
    "# Операции с индексами"
   ]
  },
  {
   "cell_type": "markdown",
   "metadata": {},
   "source": [
    "Оперативная память компьютера линейна, и поэтому даже многомерные массивы, на самом деле являются некоторыми линейными структурами, над которыми существуют система индексов, говорящих как именно читать этот линейный блок. Проведение операций над индексами в большистве случаев эффективно и поэтому операции смены размерности массива или транспонирования выполняются быстро"
   ]
  },
  {
   "cell_type": "code",
   "execution_count": 2,
   "metadata": {},
   "outputs": [
    {
     "name": "stdout",
     "output_type": "stream",
     "text": [
      "[[1 3]\n",
      " [2 4]]\n"
     ]
    }
   ],
   "source": [
    "import numpy as np\n",
    "\n",
    "a = np.asarray([[1,2], [3,4]])\n",
    "b = a.T # Транспонированый массив\n",
    "print(b)"
   ]
  },
  {
   "cell_type": "code",
   "execution_count": 3,
   "metadata": {},
   "outputs": [
    {
     "name": "stdout",
     "output_type": "stream",
     "text": [
      "[[10  3]\n",
      " [ 2  4]]\n"
     ]
    }
   ],
   "source": [
    "b[0,0] = 10\n",
    "print(b)"
   ]
  },
  {
   "cell_type": "code",
   "execution_count": null,
   "metadata": {},
   "outputs": [],
   "source": [
    "print(a)"
   ]
  },
  {
   "cell_type": "code",
   "execution_count": 4,
   "metadata": {},
   "outputs": [
    {
     "data": {
      "text/plain": [
       "array([[11,  3],\n",
       "       [ 2,  4]])"
      ]
     },
     "execution_count": 4,
     "metadata": {},
     "output_type": "execute_result"
    }
   ],
   "source": [
    "b[0][0] = 11\n",
    "b"
   ]
  },
  {
   "cell_type": "markdown",
   "metadata": {},
   "source": [
    "Как мы видим при изменени переменной b изменилась переменная a. Это произошло потому, что обе эти переменные использубют один и тот же кусок памяти, но по разному."
   ]
  },
  {
   "cell_type": "markdown",
   "metadata": {},
   "source": [
    "# Добавление и удаление осей"
   ]
  },
  {
   "cell_type": "markdown",
   "metadata": {},
   "source": [
    "Часто при работе с массивами NumPy требуется добавлять новые оси измерений и удалять существующие. Есть множество способов выполнять эти операции, но мы рассмотрим два наиболее распространенных с помощью функций:\n",
    "\n",
    "    np.expand_dims(a, axis) – добавление новой оси;\n",
    "    np.squeeze(a[, axis]) – удаление оси (без удаления элементов). \n",
    "\n",
    "Давайте предположим, что у нас имеется некий многомерный массив: "
   ]
  },
  {
   "cell_type": "code",
   "execution_count": null,
   "metadata": {},
   "outputs": [],
   "source": [
    "x_test = np.arange(32).reshape(8, 2, 2) # массив 8x2x2"
   ]
  },
  {
   "cell_type": "markdown",
   "metadata": {},
   "source": [
    "И нам потребовалось добавить еще одно измерение (ось), причем, в самое начало, то есть, ось axis0. Сейчас на этой оси 8 элементов – матриц 2x2, но мы хотим сделать четырехмерный массив, сохранив остальные три оси и их данные без изменений. Как раз это достаточно просто сделать с помощью функции expand_dims, следующим образом: "
   ]
  },
  {
   "cell_type": "code",
   "execution_count": null,
   "metadata": {},
   "outputs": [],
   "source": [
    "x_test4 = np.expand_dims(x_test, axis=0)"
   ]
  },
  {
   "cell_type": "markdown",
   "metadata": {},
   "source": [
    "Обращаясь к свойству shape: "
   ]
  },
  {
   "cell_type": "markdown",
   "metadata": {},
   "source": [
    "x_test4.shape"
   ]
  },
  {
   "cell_type": "markdown",
   "metadata": {},
   "source": [
    "Видим, что массив стал четырехмерным и первая добавленная ось axis0 содержит один элемент – трехмерный массив 8x2x2. При необходимости, мы всегда можем добавить новый элемент на эту ось: "
   ]
  },
  {
   "cell_type": "code",
   "execution_count": null,
   "metadata": {},
   "outputs": [],
   "source": [
    "a = np.append(x_test4, x_test4, axis=0) # размерность (2, 8, 2, 2)\n",
    "a"
   ]
  },
  {
   "cell_type": "markdown",
   "metadata": {},
   "source": [
    "или удалить ненужные элементы: "
   ]
  },
  {
   "cell_type": "code",
   "execution_count": null,
   "metadata": {},
   "outputs": [],
   "source": [
    "b = np.delete(a, 0, axis=0) # размерность (1, 8, 2, 2)\n",
    "b"
   ]
  },
  {
   "cell_type": "markdown",
   "metadata": {},
   "source": [
    "Здесь второй параметр 0 – индекс удаляемого элемента на оси axis0.\n",
    "\n",
    "Если нам нужно добавить последнюю ось в массиве, то для этого можно записать такую команду: "
   ]
  },
  {
   "cell_type": "code",
   "execution_count": null,
   "metadata": {},
   "outputs": [],
   "source": [
    "b = np.expand_dims(x_test4, axis=-1) # размерность (1, 8, 2, 2, 1)"
   ]
  },
  {
   "cell_type": "markdown",
   "metadata": {},
   "source": [
    "Отрицательный индекс -1 – это следующая с конца ось. Если указать индекс -2, то добавится предпоследняя ось и так далее. Отрицательные индексы очень удобно использовать при работе с массивами произвольных размерностей.\n",
    "\n",
    "Следующая функция squeeze позволяет удалить все оси с одним элементом. Например, строчка: "
   ]
  },
  {
   "cell_type": "code",
   "execution_count": null,
   "metadata": {},
   "outputs": [],
   "source": [
    "c = np.squeeze(b) # размерность (8, 2, 2)\n",
    "c"
   ]
  },
  {
   "cell_type": "markdown",
   "metadata": {},
   "source": [
    "превращает массив размерностью (1, 8, 2, 2) в массив размерностью (8, 2, 2). При необходимости, дополнительно мы можем самостоятельно указать оси, которые следует удалять, например, так: "
   ]
  },
  {
   "cell_type": "code",
   "execution_count": null,
   "metadata": {},
   "outputs": [],
   "source": [
    "c = np.squeeze(b, axis=0) # удалит только ось axis0, не затронув другие"
   ]
  },
  {
   "cell_type": "markdown",
   "metadata": {},
   "source": [
    "Но, если указать ось с числом элементов больше 1, то возникнет ошибка: "
   ]
  },
  {
   "cell_type": "code",
   "execution_count": null,
   "metadata": {},
   "outputs": [],
   "source": [
    "c = np.squeeze(b, axis=1) # ошибка, на оси axis1 8 элементов"
   ]
  },
  {
   "cell_type": "markdown",
   "metadata": {},
   "source": [
    "В NumPy добавлять новые оси иногда удобнее с помощью специального объекта np.newaxis. Например, пусть у нас есть одномерный массив: "
   ]
  },
  {
   "cell_type": "code",
   "execution_count": null,
   "metadata": {},
   "outputs": [],
   "source": [
    "a = np.arange(1, 10)\n",
    "a"
   ]
  },
  {
   "cell_type": "markdown",
   "metadata": {},
   "source": [
    "У него одна ось – одно измерение. Добавим еще одну ось, допустим, в начало. С помощью объекта np.newaxis это можно сделать так: "
   ]
  },
  {
   "cell_type": "code",
   "execution_count": null,
   "metadata": {},
   "outputs": [],
   "source": [
    "b = a[np.newaxis, :] # добавление оси axis0\n",
    "print(b)\n",
    "b.shape # (1, 9)"
   ]
  },
  {
   "cell_type": "markdown",
   "metadata": {},
   "source": [
    "Или, можно прописать сразу две оси: "
   ]
  },
  {
   "cell_type": "code",
   "execution_count": null,
   "metadata": {},
   "outputs": [],
   "source": [
    "c = a[np.newaxis, :, np.newaxis]\n",
    "print(c)\n",
    "c.shape # (1, 9, 1)"
   ]
  },
  {
   "cell_type": "markdown",
   "metadata": {},
   "source": [
    "# Базовые математические операции над массивами"
   ]
  },
  {
   "cell_type": "markdown",
   "metadata": {},
   "source": [
    "Предположим, имеется обычный список и массив, созданный на его основе:"
   ]
  },
  {
   "cell_type": "code",
   "execution_count": 32,
   "metadata": {},
   "outputs": [],
   "source": [
    "lst = [1, 2, 3]\n",
    "a = np.array([1, 2, 3])"
   ]
  },
  {
   "cell_type": "markdown",
   "metadata": {},
   "source": [
    "Сейчас вы увидите принципиальную разницу между двумя этими объектами. Умножим их на число 2: "
   ]
  },
  {
   "cell_type": "code",
   "execution_count": 31,
   "metadata": {},
   "outputs": [
    {
     "data": {
      "text/plain": [
       "array([2, 4, 6])"
      ]
     },
     "execution_count": 31,
     "metadata": {},
     "output_type": "execute_result"
    }
   ],
   "source": [
    "lst*2\n",
    "a*2"
   ]
  },
  {
   "cell_type": "markdown",
   "metadata": {},
   "source": [
    "Видите, при умножении списка языка Python, он дублируется дважды, а при умножении на NumPy массив – каждый его элемент умножается математически на число 2. Если бы мы захотели то же самое реализовать непосредственно на Python, оперируя списками, то пришлось бы делать что-то вроде:"
   ]
  },
  {
   "cell_type": "code",
   "execution_count": 33,
   "metadata": {},
   "outputs": [
    {
     "data": {
      "text/plain": [
       "[2, 4, 6]"
      ]
     },
     "execution_count": 33,
     "metadata": {},
     "output_type": "execute_result"
    }
   ],
   "source": [
    "[x*2 for x in lst]"
   ]
  },
  {
   "cell_type": "markdown",
   "metadata": {},
   "source": [
    "Но выполнялась бы такая конструкция дольше, чем в случае с массивом NumPy. Именно благодаря удобству и скорости библиотека NumPy и приобрела свою популярность."
   ]
  },
  {
   "cell_type": "markdown",
   "metadata": {},
   "source": [
    "Пусть у нас задан тот же одномерный массив: "
   ]
  },
  {
   "cell_type": "code",
   "execution_count": 34,
   "metadata": {},
   "outputs": [],
   "source": [
    "a = np.array([1, 2, 3])"
   ]
  },
  {
   "cell_type": "markdown",
   "metadata": {},
   "source": [
    "Все указанные в таблице операции выполняются следующим образом: "
   ]
  },
  {
   "cell_type": "code",
   "execution_count": 35,
   "metadata": {},
   "outputs": [
    {
     "name": "stdout",
     "output_type": "stream",
     "text": [
      "[-1 -2 -3]\n",
      "[3 4 5]\n",
      "[3 4 5]\n",
      "[-2 -1  0]\n",
      "[ 5 10 15]\n",
      "[0.2 0.4 0.6]\n",
      "[0 1 1]\n",
      "[ 1  8 27]\n",
      "[1 0 1]\n"
     ]
    }
   ],
   "source": [
    "print(-a) # унарный минус\n",
    "print(a + 2) # сложение с числом\n",
    "print(2 + a)  # так тоже можно записывать\n",
    "print(a - 3) # вычитание с числом\n",
    "print(a * 5) # умножение на число\n",
    "print(a / 5)  # деление на число\n",
    "print(a // 2)  # целочисленное деление\n",
    "print(a ** 3)  # возведение в степень 3\n",
    "print(a % 2)  # вычисление по модулю 2"
   ]
  },
  {
   "cell_type": "markdown",
   "metadata": {},
   "source": [
    "Приоритеты этих операций такие же, что и при обычных математических вычислениях. А на выходе мы получаем новый массив с соответствующими значениями.\n",
    "\n",
    "Давайте теперь добавим еще один массив: "
   ]
  },
  {
   "cell_type": "code",
   "execution_count": null,
   "metadata": {},
   "outputs": [],
   "source": [
    "b = np.array([3, 4, 5])"
   ]
  },
  {
   "cell_type": "markdown",
   "metadata": {},
   "source": [
    "и посмотрим на эти же операции, но с участием двух массивов:"
   ]
  },
  {
   "cell_type": "code",
   "execution_count": 36,
   "metadata": {},
   "outputs": [
    {
     "name": "stdout",
     "output_type": "stream",
     "text": [
      "[[  0  -8   2]\n",
      " [ -1  -2  -5]\n",
      " [ -2  -7 -24]]\n",
      "[[ 2 12  4]\n",
      " [ 3  6 11]\n",
      " [ 4 11 30]]\n",
      "[[ 1 20  3]\n",
      " [ 2  8 24]\n",
      " [ 3 18 81]]\n",
      "[[1.         5.         0.33333333]\n",
      " [2.         2.         2.66666667]\n",
      " [3.         4.5        9.        ]]\n",
      "[[1 5 0]\n",
      " [2 2 2]\n",
      " [3 4 9]]\n",
      "[[    1   100     1]\n",
      " [    2    16   512]\n",
      " [    3    81 19683]]\n",
      "[[0 0 1]\n",
      " [0 0 2]\n",
      " [0 1 0]]\n"
     ]
    }
   ],
   "source": [
    "print(a - b)\n",
    "print(b + a)\n",
    "print(a * b)\n",
    "print(b / a)\n",
    "print(b // a)\n",
    "print(b ** a)\n",
    "print(b % a)"
   ]
  },
  {
   "cell_type": "markdown",
   "metadata": {},
   "source": [
    "Везде мы видим поэлементные операции. Соответственно, чтобы они выполнялись, массивы должны быть согласованы по длине. Например, если взять массив: "
   ]
  },
  {
   "cell_type": "code",
   "execution_count": null,
   "metadata": {},
   "outputs": [],
   "source": [
    "b = np.array([3, 4, 5, 6])"
   ]
  },
  {
   "cell_type": "markdown",
   "metadata": {},
   "source": [
    "и выполнить операцию: "
   ]
  },
  {
   "cell_type": "code",
   "execution_count": null,
   "metadata": {},
   "outputs": [],
   "source": [
    "a + b  # ошибка: длины массивов не совпадают"
   ]
  },
  {
   "cell_type": "markdown",
   "metadata": {},
   "source": [
    "то возникнет ошибка из-за несовпадения длин массивов. Но вот такая операция с двумерным массивом b сработает: "
   ]
  },
  {
   "cell_type": "code",
   "execution_count": 40,
   "metadata": {},
   "outputs": [
    {
     "name": "stdout",
     "output_type": "stream",
     "text": [
      "[1 2 3]\n",
      "[[1 2 3]\n",
      " [4 5 6]]\n"
     ]
    },
    {
     "data": {
      "text/plain": [
       "array([[2, 4, 6],\n",
       "       [5, 7, 9]])"
      ]
     },
     "execution_count": 40,
     "metadata": {},
     "output_type": "execute_result"
    }
   ],
   "source": [
    "b = np.arange(1, 7)\n",
    "b.resize(2, 3)\n",
    "print(a)\n",
    "print(b)\n",
    "a + b"
   ]
  },
  {
   "cell_type": "markdown",
   "metadata": {},
   "source": [
    "В этом случае массив a будет применен к каждой строке массива b. Такое поведение получило название транслирование массивов."
   ]
  },
  {
   "cell_type": "markdown",
   "metadata": {},
   "source": [
    "Все рассмотренные операции можно распространить и на многомерные массивы, главное, чтобы они были согласованы по размерам. Я приведу два небольших примера, так как думаю, общий принцип здесь понятен. Пусть у нас трехмерный и двумерный массивы: "
   ]
  },
  {
   "cell_type": "code",
   "execution_count": 42,
   "metadata": {},
   "outputs": [
    {
     "name": "stdout",
     "output_type": "stream",
     "text": [
      "[ 1  2  3  4  5  6  7  8  9 10 11 12 13 14 15 16 17 18]\n"
     ]
    }
   ],
   "source": [
    "a = np.arange(1, 19)\n",
    "print(a)\n",
    "a.resize(3, 3, 2)\n",
    "b = np.ones((3, 2))"
   ]
  },
  {
   "cell_type": "markdown",
   "metadata": {},
   "source": [
    "С ними можно выполнять такие операции:"
   ]
  },
  {
   "cell_type": "code",
   "execution_count": null,
   "metadata": {},
   "outputs": [],
   "source": [
    "print(a - b)\n",
    "print(a * 10)\n",
    "print(a // b)"
   ]
  },
  {
   "cell_type": "markdown",
   "metadata": {},
   "source": [
    "Если нам нужно произвести какие-либо математические операции с массивом и изменения сохранить в нем же, то удобно использовать сокращенные записи."
   ]
  },
  {
   "cell_type": "code",
   "execution_count": null,
   "metadata": {},
   "outputs": [],
   "source": [
    "a = np.array([1, 2, 6, 8])\n",
    "a += 5\n",
    "b = np.ones(4)\n",
    "b *= a"
   ]
  },
  {
   "cell_type": "markdown",
   "metadata": {},
   "source": [
    "# Элементы линейной алгебры"
   ]
  },
  {
   "cell_type": "markdown",
   "metadata": {},
   "source": [
    "**Упражнение 1**\n",
    "\n",
    "Создайте два вектора.\n",
    "\n",
    "Найдите в документации numpy функции **dot** и **inner** вычислите скалярное произведение векторов."
   ]
  },
  {
   "cell_type": "code",
   "execution_count": 127,
   "metadata": {},
   "outputs": [
    {
     "name": "stdout",
     "output_type": "stream",
     "text": [
      "Вектор 1 =  [0 1 2]\n",
      "Вектор 2 = [3 4 5]\n",
      "Скалярное произведение = 14\n"
     ]
    }
   ],
   "source": [
    "a= np.arange(0,3)\n",
    "b= np.arange(3,6)\n",
    "print('Вектор 1 = ',a)\n",
    "print('Вектор 2 =',b)\n",
    "print('Скалярное произведение =',np.dot(a,b))"
   ]
  },
  {
   "cell_type": "markdown",
   "metadata": {},
   "source": [
    "**Упражнение 2**\n",
    "\n",
    "Создайте две матрицы (двумерных массива).\n",
    "\n",
    "Найдите в документации numpy функции **dot** и **matmul** и с помощью этих функций вычислите произведение двух матриц.\n",
    "\n",
    "Создайте диагональную единичную матрицу и выполните умножение одной из предыдущих матриц на единичную матрицу."
   ]
  },
  {
   "cell_type": "code",
   "execution_count": 124,
   "metadata": {},
   "outputs": [
    {
     "name": "stdout",
     "output_type": "stream",
     "text": [
      "Исходная матрица 1:  \n",
      " [[ 0  1  2  3]\n",
      " [ 4  5  6  7]\n",
      " [ 8  9 10 11]]\n",
      "\n",
      "Исходная матрица 2:  \n",
      " [[ 9 10]\n",
      " [11 12]\n",
      " [13 14]\n",
      " [15 16]]\n",
      "\n",
      "Произведение 1 и 2: \n",
      " [[ 82  88]\n",
      " [274 296]\n",
      " [466 504]]\n",
      "\n",
      "Произведение 1 на Е: \n",
      " [[ 0.  1.  2.  3.  0.]\n",
      " [ 4.  5.  6.  7.  0.]\n",
      " [ 8.  9. 10. 11.  0.]]\n"
     ]
    }
   ],
   "source": [
    "a= np.arange(0,12)\n",
    "a.shape = 3, -1\n",
    "b = np.arange(9,17)\n",
    "b.shape = 4,-1\n",
    "print('Исходная матрица 1: ','\\n',a,end='\\n\\n')\n",
    "print('Исходная матрица 2: ','\\n',b,end='\\n\\n')\n",
    "print('Произведение 1 и 2:','\\n',np.matmul(a,b),end='\\n\\n')\n",
    "c =np.eye(4,5)\n",
    "print('Произведение 1 на Е:','\\n',np.matmul(a,c))"
   ]
  },
  {
   "cell_type": "markdown",
   "metadata": {},
   "source": [
    "Вычисление нормы вектора:"
   ]
  },
  {
   "cell_type": "markdown",
   "metadata": {},
   "source": [
    "**Упражнение 3**\n",
    "\n",
    "Вычислите норму матрицы с помощью функции **np.linalg.norm**."
   ]
  },
  {
   "cell_type": "code",
   "execution_count": 128,
   "metadata": {},
   "outputs": [
    {
     "name": "stdout",
     "output_type": "stream",
     "text": [
      "Исходная матрица:  \n",
      " [[ 0  1  2  3]\n",
      " [ 4  5  6  7]\n",
      " [ 8  9 10 11]]\n",
      "\n",
      "Норма матрицы = 7.0710678118654755\n"
     ]
    }
   ],
   "source": [
    "a= np.arange(0,12)\n",
    "a.shape = 3, -1\n",
    "print('Исходная матрица: ','\\n',a,end='\\n\\n')\n",
    "print('Норма матрицы =',np.linalg.norm(b))"
   ]
  },
  {
   "cell_type": "markdown",
   "metadata": {},
   "source": [
    "**Упражнение 4**\n",
    "\n",
    "Вычислите косинус угла между векторами: $\\normalsize cos\\alpha = \\frac{a*b}{\\|a\\|*\\|b\\|}$"
   ]
  },
  {
   "cell_type": "code",
   "execution_count": 129,
   "metadata": {},
   "outputs": [
    {
     "name": "stdout",
     "output_type": "stream",
     "text": [
      "a = [0 1 2]\n",
      "b = [3 4 5]\n",
      "Косинус угла = 0.8854377448471462\n"
     ]
    }
   ],
   "source": [
    "a= np.arange(0,3)\n",
    "b= np.arange(3,6)\n",
    "print('a =',a)\n",
    "print('b =',b)\n",
    "print('Косинус угла =',np.dot(a,b)/np.linalg.norm(a)/np.linalg.norm(b))"
   ]
  },
  {
   "cell_type": "code",
   "execution_count": null,
   "metadata": {},
   "outputs": [],
   "source": []
  },
  {
   "cell_type": "markdown",
   "metadata": {},
   "source": [
    "____________________________________________________________________________________________________________________\n",
    "Вычисление определителя матрицы:"
   ]
  },
  {
   "cell_type": "code",
   "execution_count": 130,
   "metadata": {},
   "outputs": [
    {
     "name": "stdout",
     "output_type": "stream",
     "text": [
      "Исходная матрица:  \n",
      " [[-4 -1  2]\n",
      " [10  4 -1]\n",
      " [ 8  3  1]]\n",
      "Определитель = -14.000000000000009\n"
     ]
    }
   ],
   "source": [
    "A = np.matrix('-4 -1 2; 10 4 -1; 8 3 1') # еще один способ для создания матрицы\n",
    "print('Исходная матрица: ','\\n',A)\n",
    "d = np.linalg.det(A)\n",
    "print('Определитель =',d)"
   ]
  },
  {
   "cell_type": "markdown",
   "metadata": {},
   "source": [
    "**Упражнение 5**\n",
    "\n",
    "Транспонируйте матрицу, вычислите определитель. Отличается ли определитель транспонированной матрицы от определителя исходной матрицы?\n",
    "\n",
    "Замените одну из строк матрицы на строку из нулей, вычислите определитель матрицы.\n",
    "\n",
    "Создайте матрицу, у которой две строки переставлены местами по сравнению с исходной матрицей, вычислите определитель новой матрицы.\n",
    "\n",
    "Создайте матрицу с двумя одинаковыми строками, вычислите ее определитель.\n",
    "\n",
    "Умножьте одну из строк исходной матрицы на число, вычислите определитель.\n",
    "\n",
    "Прибавьте к элементам одной строки прибавить элементы другой строки, умноженные на одно и тоже число, вычтслите определитель."
   ]
  },
  {
   "cell_type": "code",
   "execution_count": 134,
   "metadata": {},
   "outputs": [
    {
     "name": "stdout",
     "output_type": "stream",
     "text": [
      "Исходная матрица:  \n",
      " [[-4 -1  2]\n",
      " [10  4 -1]\n",
      " [ 8  3  1]]\n",
      "\n",
      "Транспонированная матрица:  \n",
      " [[-4 10  8]\n",
      " [-1  4  3]\n",
      " [ 2 -1  1]]\n",
      "Определитель = -13.999999999999996\n",
      "\n",
      "Транспонированная матрица с нулевой строкой:  \n",
      " [[-4 10  8]\n",
      " [ 0  0  0]\n",
      " [ 2 -1  1]]\n",
      "Определитель = 0.0\n",
      "\n",
      "Матрица с двумя переставленным строками:  \n",
      " [[-4 -1  2]\n",
      " [ 8  3  1]\n",
      " [10  4 -1]]\n",
      "Определитель = 14.000000000000009\n",
      "\n",
      "Матрица с двумя одинаковыми строками:  \n",
      " [[-4 -1  2]\n",
      " [-4 -1  2]\n",
      " [ 8  3  1]]\n",
      "Определитель = 0.0\n",
      "\n",
      "Матрица с одной строкой,умноженной на число:  \n",
      " [[-4 -1  2]\n",
      " [50 20 -5]\n",
      " [ 8  3  1]]\n",
      "Определитель = -70.00000000000003\n",
      "\n",
      "Матрица, у которой к одной строке прибавили элементы другой, умноженные на число:  \n",
      " [[12  5  4]\n",
      " [10  4 -1]\n",
      " [ 8  3  1]]\n",
      "Определитель = -13.999999999999991\n",
      "\n"
     ]
    }
   ],
   "source": [
    "a = np.matrix('-4 -1 2; 10 4 -1; 8 3 1') \n",
    "print('Исходная матрица: ','\\n',a,end='\\n\\n')\n",
    "a2 = np.matrix('-4 -1 2; 10 4 -1; 8 3 1')\n",
    "a3 = np.matrix('-4 -1 2; 10 4 -1; 8 3 1')\n",
    "a4 = np.matrix('-4 -1 2; 10 4 -1; 8 3 1')\n",
    "a = a.T\n",
    "print('Транспонированная матрица: ','\\n',a)\n",
    "print('Определитель =',np.linalg.det(a),end='\\n\\n')\n",
    "a[1]=0\n",
    "print('Транспонированная матрица с нулевой строкой: ','\\n',a)\n",
    "print('Определитель =',np.linalg.det(a),end='\\n\\n')\n",
    "a2[[1,2]]=a2[[2,1]]\n",
    "print('Матрица с двумя переставленным строками: ','\\n',a2)\n",
    "print('Определитель =',np.linalg.det(a2),end='\\n\\n')\n",
    "d = np.matrix('-4 -1 2; -4,-1,2; 8 3 1')\n",
    "print('Матрица с двумя одинаковыми строками: ','\\n',d)\n",
    "print('Определитель =',np.linalg.det(d),end='\\n\\n')\n",
    "a3[1]=a3[1]*5\n",
    "print('Матрица с одной строкой,умноженной на число: ','\\n',a3)\n",
    "print('Определитель =',np.linalg.det(a3),end='\\n\\n')\n",
    "a4[0]+= a4[2]*2\n",
    "print('Матрица, у которой к одной строке прибавили элементы другой, умноженные на число: ','\\n',a4)\n",
    "print('Определитель =',np.linalg.det(a4),end='\\n\\n')\n"
   ]
  },
  {
   "cell_type": "markdown",
   "metadata": {},
   "source": [
    "# Построение графиков в matplotlib"
   ]
  },
  {
   "cell_type": "markdown",
   "metadata": {},
   "source": [
    "Построение графика по точкам:"
   ]
  },
  {
   "cell_type": "code",
   "execution_count": null,
   "metadata": {},
   "outputs": [],
   "source": [
    "import matplotlib.pyplot as plt\n",
    "plt.plot([1, 2, 3, 4, 5], [1, 2, 3, 4, 5])\n",
    "plt.show()"
   ]
  },
  {
   "cell_type": "markdown",
   "metadata": {},
   "source": [
    "Для начала построим линейную зависимость, дадим нашему графику название, подпишем оси и отобразим сетку:"
   ]
  },
  {
   "cell_type": "code",
   "execution_count": null,
   "metadata": {},
   "outputs": [],
   "source": [
    "import numpy as np\n",
    "# Независимая (x) и зависимая (y) переменные\n",
    "x = np.linspace(0, 10, 50)\n",
    "y = x\n",
    "\n",
    "# Построение графика\n",
    "plt.title(\"Линейная зависимость y = x\") # заголовок\n",
    "plt.xlabel(\"x\") # ось абсцисс\n",
    "plt.ylabel(\"y\") # ось ординат\n",
    "plt.grid()      # включение отображение сетки\n",
    "plt.plot(x, y)  # построение графика"
   ]
  },
  {
   "cell_type": "markdown",
   "metadata": {},
   "source": [
    "Изменим тип линии и ее цвет, для этого в функцию plot(), в качестве третьего параметра передадим строку, сформированную определенным образом, в нашем случае это “r–”, где “r” означает красный цвет, а “–” – тип линии – пунктирная линия."
   ]
  },
  {
   "cell_type": "code",
   "execution_count": null,
   "metadata": {},
   "outputs": [],
   "source": [
    "# Построение графика\n",
    "plt.title(\"Линейная зависимость y = x\") # заголовок\n",
    "plt.xlabel(\"x\") # ось абсцисс\n",
    "plt.ylabel(\"y\") # ось ординат\n",
    "plt.grid()      # включение отображение сетки\n",
    "plt.plot(x, y, \"r--\")  # построение графика"
   ]
  },
  {
   "cell_type": "markdown",
   "metadata": {},
   "source": [
    "**Несколько графиков на одном поле**\n",
    "\n",
    "Построим несколько графиков на одном поле, для этого добавим квадратичную зависимость:"
   ]
  },
  {
   "cell_type": "code",
   "execution_count": null,
   "metadata": {},
   "outputs": [],
   "source": [
    "# Линейная зависимость\n",
    "x = np.linspace(0, 10, 50)\n",
    "y1 = x\n",
    "# Квадратичная зависимость\n",
    "y2 = [i**2 for i in x]\n",
    "# Построение графика\n",
    "plt.title(\"Зависимости: y1 = x, y2 = x^2\") # заголовок\n",
    "plt.xlabel(\"x\")         # ось абсцисс\n",
    "plt.ylabel(\"y1, y2\")    # ось ординат\n",
    "plt.grid()              # включение отображение сетки\n",
    "plt.plot(x, y1, x, y2)  # построение графика"
   ]
  },
  {
   "cell_type": "markdown",
   "metadata": {},
   "source": [
    "В приведенном примере в функцию plot() последовательно передаются два массива для построения первого графика и два массива для построения второго, при этом, как вы можете заметить, для обоих графиков массив значений независимой переменной x один и то же."
   ]
  },
  {
   "cell_type": "markdown",
   "metadata": {},
   "source": [
    "**Несколько разделенных полей с графиками**\n",
    "\n",
    "Третья, довольно часто встречающаяся задача – это отобразить два или более различных поля, на которых будет отображено по одному или более графику.\n",
    "\n",
    "Построим уже известные нам две зависимость на разных полях."
   ]
  },
  {
   "cell_type": "code",
   "execution_count": null,
   "metadata": {},
   "outputs": [],
   "source": [
    "# Линейная зависимость\n",
    "x = np.linspace(0, 10, 50)\n",
    "y1 = x\n",
    "# Квадратичная зависимость\n",
    "y2 = [i**2 for i in x]\n",
    "# Построение графиков\n",
    "plt.figure(figsize=(9, 9))\n",
    "plt.subplot(2, 1, 1)\n",
    "plt.plot(x, y1)               # построение графика\n",
    "plt.title(\"Зависимости: y1 = x, y2 = x^2\") # заголовок\n",
    "plt.ylabel(\"y1\", fontsize=14) # ось ординат\n",
    "plt.grid(True)                # включение отображение сетки\n",
    "plt.subplot(2, 1, 2)\n",
    "plt.plot(x, y2)               # построение графика\n",
    "plt.xlabel(\"x\", fontsize=14)  # ось абсцисс\n",
    "plt.ylabel(\"y2\", fontsize=14) # ось ординат\n",
    "plt.grid(True)                # включение отображение сетки"
   ]
  },
  {
   "cell_type": "markdown",
   "metadata": {},
   "source": [
    "Здесь мы воспользовались новыми функциями: \n",
    "\n",
    "figure() – функция для задания глобальных параметров отображения графиков. В нее, в качестве аргумента, мы передаем кортеж, определяющий размер общего поля. \n",
    "\n",
    "subplot() – функция для задания местоположения поля с графиком. Существует несколько способов задания областей для вывода через функцию subplot() мы воспользовались следующим: первый аргумент – количество строк, второй – столбцов в формируемом поле, третий – индекс (номер поля, считаем сверху вниз, слева направо).\n",
    "\n",
    "Дополнительно мы использовали параметр fontsize для функций xlabel() и ylabel(), для задания размера шрифта."
   ]
  },
  {
   "cell_type": "markdown",
   "metadata": {},
   "source": [
    "**Точечная диаграмма (scatter plot)**"
   ]
  },
  {
   "cell_type": "code",
   "execution_count": 135,
   "metadata": {},
   "outputs": [
    {
     "name": "stdout",
     "output_type": "stream",
     "text": [
      "x [0.05734893 0.84426183 0.08802615 0.28714117 0.77642045 0.38946593\n",
      " 0.90058359 0.77981037 0.45705409 0.01361424 0.52298135 0.57514672\n",
      " 0.50739357 0.84464906 0.33568538 0.96351292 0.26917892 0.47266121\n",
      " 0.08676403 0.81541123 0.07945663 0.08652587 0.04695776 0.81823776\n",
      " 0.59768644 0.68066151 0.57718538 0.64637119 0.01924471 0.95733568\n",
      " 0.07340753 0.82545584 0.06622878 0.85202938 0.73523616 0.35998909\n",
      " 0.21849126 0.35252171 0.37117768 0.75547276 0.45486731 0.93304778\n",
      " 0.22893801 0.19723073 0.71268963 0.92720638 0.31973874 0.52696507\n",
      " 0.15723424 0.23857061]\n",
      "y [0.78449567 0.88052424 0.99887734 0.65283594 0.3109778  0.516073\n",
      " 0.64068376 0.97255155 0.0595078  0.6926392  0.65113017 0.36477211\n",
      " 0.46005352 0.09514735 0.34601076 0.32678162 0.3732385  0.03588853\n",
      " 0.51369179 0.16541683 0.9297464  0.19208684 0.74964772 0.16066508\n",
      " 0.47206742 0.35396198 0.91730541 0.90226743 0.20499543 0.1244082\n",
      " 0.465922   0.69907716 0.44920255 0.61122048 0.71596544 0.66670287\n",
      " 0.05060229 0.0827412  0.47809226 0.99324778 0.9695138  0.4777325\n",
      " 0.12868814 0.02437704 0.41912713 0.41655831 0.90148814 0.90259706\n",
      " 0.66111344 0.30452979]\n"
     ]
    },
    {
     "data": {
      "image/png": "[encoded data removed]",
      "text/plain": [
       "<Figure size 432x288 with 1 Axes>"
      ]
     },
     "metadata": {
      "needs_background": "light"
     },
     "output_type": "display_data"
    }
   ],
   "source": [
    "import numpy as np\n",
    "import matplotlib.pyplot as plt\n",
    "\n",
    "\n",
    "N = 50\n",
    "x = np.random.rand(N) # случайный вектор из 50 элементов\n",
    "print(\"x\", x)\n",
    "y = np.random.rand(N) # случайный вектор из 50 элементов\n",
    "print(\"y\", y)\n",
    "colors = np.random.rand(N) # случайный вектор из 50 элементов, чтобы задавать цвета каждой из точек\n",
    "area = (30 * np.random.rand(N))**2 # случайные площади каждой из точек\n",
    "\n",
    "plt.scatter(x, y, s=area, c=colors, alpha=0.5) # нанесение точек на диаграмму, x и y - координаты\n",
    "                                               # area - площади точек, colors - цвета точек\n",
    "                                               # alpha - значение прозрачности точек\n",
    "plt.show()"
   ]
  },
  {
   "cell_type": "markdown",
   "metadata": {},
   "source": [
    "**Пример с вычислением числа $\\pi$ с помощью метода Монте Карло и визуализация результатов**"
   ]
  },
  {
   "cell_type": "markdown",
   "metadata": {},
   "source": [
    "Переключим режим отображения графиков в notebook:"
   ]
  },
  {
   "cell_type": "code",
   "execution_count": 136,
   "metadata": {},
   "outputs": [],
   "source": [
    "%matplotlib notebook"
   ]
  },
  {
   "cell_type": "code",
   "execution_count": 137,
   "metadata": {},
   "outputs": [],
   "source": [
    "import matplotlib.pyplot as plt\n",
    "import numpy as np\n",
    "from matplotlib.axes import Axes\n",
    "from scipy.stats import norm\n",
    "\n",
    "class PiAnimation:\n",
    "    def __init__(self, ax: Axes, ax_pi: Axes, ax_gaus: Axes):\n",
    "        self.inner = 0\n",
    "        self.out = 0\n",
    "\n",
    "        self.xi, self.yi = [], []\n",
    "        self.xo, self.yo = [], []\n",
    "\n",
    "        ax.set_xlim(-1.0, 1.5)\n",
    "        ax.set_ylim(-1.0, 1.5)\n",
    "        ax.axis(\"off\")\n",
    "        ax.add_artist(plt.Circle((0.0, 0.0), 1, fill=False))\n",
    "        ax.add_artist(plt.Rectangle((-1, -1), 2, 2, fill=False))\n",
    "\n",
    "        self.line_i = ax.plot(self.xi, self.yi, \"ro\")[0]\n",
    "        self.line_o = ax.plot(self.xo, self.yo, \"bo\")[0]\n",
    "        self.text = ax.text(0.3, 1.1, \"\", fontdict={\"fontsize\": 32})\n",
    "        self.text_n = ax.text(-0.9, 1.1, \"\", fontdict={\"fontsize\": 32})\n",
    "\n",
    "        self.ax_pi = ax_pi\n",
    "        self.pi = []\n",
    "        self.pi_line = ax_pi.plot([], self.pi,\"-\")[0]\n",
    "        ax_pi.set_ylim(0, 2*np.pi)\n",
    "\n",
    "        self.ax_gaus = ax_gaus\n",
    "        self.gauss_point = np.linspace(0.5*np.pi, 1.5 * np.pi, 200)\n",
    "        self.gauss = ax_gaus.plot(self.gauss_point, np.zeros(200), \"\")[0]\n",
    "\n",
    "    def __call__(self, n):\n",
    "        x, y = 2*(np.random.random_sample(2) - 0.5)\n",
    "        if x ** 2 + y ** 2 <= 1:\n",
    "            self.inner += 1\n",
    "            self.xi.append(x)\n",
    "            self.yi.append(y)\n",
    "            self.line_i.set_data(self.xi, self.yi)\n",
    "        else:\n",
    "            self.out +=1\n",
    "            self.xo.append(x)\n",
    "            self.yo.append(y)\n",
    "            self.line_o.set_data(self.xo, self.yo)\n",
    "        N = self.inner + self.out\n",
    "        prob = self.inner/N\n",
    "        pi = 4*prob\n",
    "        self.pi.append(pi)\n",
    "        self.text.set_text(r\"$\\pi = {:.5}$\".format(pi))\n",
    "        self.text_n.set_text(\"N = {:5d}   \".format(N))\n",
    "\n",
    "        self.pi_line.set_data(range(N), self.pi)\n",
    "        self.ax_pi.relim()\n",
    "        self.ax_pi.autoscale()\n",
    "\n",
    "        mean, var = np.mean(self.pi), np.var(self.pi)\n",
    "\n",
    "        if N > 3:\n",
    "            self.gauss.set_data(self.gauss_point, norm.pdf(self.gauss_point, loc = mean, scale = var))\n",
    "            self.ax_gaus.relim()\n",
    "            self.ax_gaus.autoscale()\n",
    "        return self.line_i, self.line_o, self.text, self.text_n, self.pi_line, self.gauss"
   ]
  },
  {
   "cell_type": "code",
   "execution_count": 138,
   "metadata": {},
   "outputs": [
    {
     "data": {
      "application/javascript": [
       "/* Put everything inside the global mpl namespace */\n",
       "/* global mpl */\n",
       "window.mpl = {};\n",
       "\n",
       "mpl.get_websocket_type = function () {\n",
       "    if (typeof WebSocket !== 'undefined') {\n",
       "        return WebSocket;\n",
       "    } else if (typeof MozWebSocket !== 'undefined') {\n",
       "        return MozWebSocket;\n",
       "    } else {\n",
       "        alert(\n",
       "            'Your browser does not have WebSocket support. ' +\n",
       "                'Please try Chrome, Safari or Firefox ≥ 6. ' +\n",
       "                'Firefox 4 and 5 are also supported but you ' +\n",
       "                'have to enable WebSockets in about:config.'\n",
       "        );\n",
       "    }\n",
       "};\n",
       "\n",
       "mpl.figure = function (figure_id, websocket, ondownload, parent_element) {\n",
       "    this.id = figure_id;\n",
       "\n",
       "    this.ws = websocket;\n",
       "\n",
       "    this.supports_binary = this.ws.binaryType !== undefined;\n",
       "\n",
       "    if (!this.supports_binary) {\n",
       "        var warnings = document.getElementById('mpl-warnings');\n",
       "        if (warnings) {\n",
       "            warnings.style.display = 'block';\n",
       "            warnings.textContent =\n",
       "                'This browser does not support binary websocket messages. ' +\n",
       "                'Performance may be slow.';\n",
       "        }\n",
       "    }\n",
       "\n",
       "    this.imageObj = new Image();\n",
       "\n",
       "    this.context = undefined;\n",
       "    this.message = undefined;\n",
       "    this.canvas = undefined;\n",
       "    this.rubberband_canvas = undefined;\n",
       "    this.rubberband_context = undefined;\n",
       "    this.format_dropdown = undefined;\n",
       "\n",
       "    this.image_mode = 'full';\n",
       "\n",
       "    this.root = document.createElement('div');\n",
       "    this.root.setAttribute('style', 'display: inline-block');\n",
       "    this._root_extra_style(this.root);\n",
       "\n",
       "    parent_element.appendChild(this.root);\n",
       "\n",
       "    this._init_header(this);\n",
       "    this._init_canvas(this);\n",
       "    this._init_toolbar(this);\n",
       "\n",
       "    var fig = this;\n",
       "\n",
       "    this.waiting = false;\n",
       "\n",
       "    this.ws.onopen = function () {\n",
       "        fig.send_message('supports_binary', { value: fig.supports_binary });\n",
       "        fig.send_message('send_image_mode', {});\n",
       "        if (fig.ratio !== 1) {\n",
       "            fig.send_message('set_dpi_ratio', { dpi_ratio: fig.ratio });\n",
       "        }\n",
       "        fig.send_message('refresh', {});\n",
       "    };\n",
       "\n",
       "    this.imageObj.onload = function () {\n",
       "        if (fig.image_mode === 'full') {\n",
       "            // Full images could contain transparency (where diff images\n",
       "            // almost always do), so we need to clear the canvas so that\n",
       "            // there is no ghosting.\n",
       "            fig.context.clearRect(0, 0, fig.canvas.width, fig.canvas.height);\n",
       "        }\n",
       "        fig.context.drawImage(fig.imageObj, 0, 0);\n",
       "    };\n",
       "\n",
       "    this.imageObj.onunload = function () {\n",
       "        fig.ws.close();\n",
       "    };\n",
       "\n",
       "    this.ws.onmessage = this._make_on_message_function(this);\n",
       "\n",
       "    this.ondownload = ondownload;\n",
       "};\n",
       "\n",
       "mpl.figure.prototype._init_header = function () {\n",
       "    var titlebar = document.createElement('div');\n",
       "    titlebar.classList =\n",
       "        'ui-dialog-titlebar ui-widget-header ui-corner-all ui-helper-clearfix';\n",
       "    var titletext = document.createElement('div');\n",
       "    titletext.classList = 'ui-dialog-title';\n",
       "    titletext.setAttribute(\n",
       "        'style',\n",
       "        'width: 100%; text-align: center; padding: 3px;'\n",
       "    );\n",
       "    titlebar.appendChild(titletext);\n",
       "    this.root.appendChild(titlebar);\n",
       "    this.header = titletext;\n",
       "};\n",
       "\n",
       "mpl.figure.prototype._canvas_extra_style = function (_canvas_div) {};\n",
       "\n",
       "mpl.figure.prototype._root_extra_style = function (_canvas_div) {};\n",
       "\n",
       "mpl.figure.prototype._init_canvas = function () {\n",
       "    var fig = this;\n",
       "\n",
       "    var canvas_div = (this.canvas_div = document.createElement('div'));\n",
       "    canvas_div.setAttribute(\n",
       "        'style',\n",
       "        'border: 1px solid #ddd;' +\n",
       "            'box-sizing: content-box;' +\n",
       "            'clear: both;' +\n",
       "            'min-height: 1px;' +\n",
       "            'min-width: 1px;' +\n",
       "            'outline: 0;' +\n",
       "            'overflow: hidden;' +\n",
       "            'position: relative;' +\n",
       "            'resize: both;'\n",
       "    );\n",
       "\n",
       "    function on_keyboard_event_closure(name) {\n",
       "        return function (event) {\n",
       "            return fig.key_event(event, name);\n",
       "        };\n",
       "    }\n",
       "\n",
       "    canvas_div.addEventListener(\n",
       "        'keydown',\n",
       "        on_keyboard_event_closure('key_press')\n",
       "    );\n",
       "    canvas_div.addEventListener(\n",
       "        'keyup',\n",
       "        on_keyboard_event_closure('key_release')\n",
       "    );\n",
       "\n",
       "    this._canvas_extra_style(canvas_div);\n",
       "    this.root.appendChild(canvas_div);\n",
       "\n",
       "    var canvas = (this.canvas = document.createElement('canvas'));\n",
       "    canvas.classList.add('mpl-canvas');\n",
       "    canvas.setAttribute('style', 'box-sizing: content-box;');\n",
       "\n",
       "    this.context = canvas.getContext('2d');\n",
       "\n",
       "    var backingStore =\n",
       "        this.context.backingStorePixelRatio ||\n",
       "        this.context.webkitBackingStorePixelRatio ||\n",
       "        this.context.mozBackingStorePixelRatio ||\n",
       "        this.context.msBackingStorePixelRatio ||\n",
       "        this.context.oBackingStorePixelRatio ||\n",
       "        this.context.backingStorePixelRatio ||\n",
       "        1;\n",
       "\n",
       "    this.ratio = (window.devicePixelRatio || 1) / backingStore;\n",
       "\n",
       "    var rubberband_canvas = (this.rubberband_canvas = document.createElement(\n",
       "        'canvas'\n",
       "    ));\n",
       "    rubberband_canvas.setAttribute(\n",
       "        'style',\n",
       "        'box-sizing: content-box; position: absolute; left: 0; top: 0; z-index: 1;'\n",
       "    );\n",
       "\n",
       "    // Apply a ponyfill if ResizeObserver is not implemented by browser.\n",
       "    if (this.ResizeObserver === undefined) {\n",
       "        if (window.ResizeObserver !== undefined) {\n",
       "            this.ResizeObserver = window.ResizeObserver;\n",
       "        } else {\n",
       "            var obs = _JSXTOOLS_RESIZE_OBSERVER({});\n",
       "            this.ResizeObserver = obs.ResizeObserver;\n",
       "        }\n",
       "    }\n",
       "\n",
       "    this.resizeObserverInstance = new this.ResizeObserver(function (entries) {\n",
       "        var nentries = entries.length;\n",
       "        for (var i = 0; i < nentries; i++) {\n",
       "            var entry = entries[i];\n",
       "            var width, height;\n",
       "            if (entry.contentBoxSize) {\n",
       "                if (entry.contentBoxSize instanceof Array) {\n",
       "                    // Chrome 84 implements new version of spec.\n",
       "                    width = entry.contentBoxSize[0].inlineSize;\n",
       "                    height = entry.contentBoxSize[0].blockSize;\n",
       "                } else {\n",
       "                    // Firefox implements old version of spec.\n",
       "                    width = entry.contentBoxSize.inlineSize;\n",
       "                    height = entry.contentBoxSize.blockSize;\n",
       "                }\n",
       "            } else {\n",
       "                // Chrome <84 implements even older version of spec.\n",
       "                width = entry.contentRect.width;\n",
       "                height = entry.contentRect.height;\n",
       "            }\n",
       "\n",
       "            // Keep the size of the canvas and rubber band canvas in sync with\n",
       "            // the canvas container.\n",
       "            if (entry.devicePixelContentBoxSize) {\n",
       "                // Chrome 84 implements new version of spec.\n",
       "                canvas.setAttribute(\n",
       "                    'width',\n",
       "                    entry.devicePixelContentBoxSize[0].inlineSize\n",
       "                );\n",
       "                canvas.setAttribute(\n",
       "                    'height',\n",
       "                    entry.devicePixelContentBoxSize[0].blockSize\n",
       "                );\n",
       "            } else {\n",
       "                canvas.setAttribute('width', width * fig.ratio);\n",
       "                canvas.setAttribute('height', height * fig.ratio);\n",
       "            }\n",
       "            canvas.setAttribute(\n",
       "                'style',\n",
       "                'width: ' + width + 'px; height: ' + height + 'px;'\n",
       "            );\n",
       "\n",
       "            rubberband_canvas.setAttribute('width', width);\n",
       "            rubberband_canvas.setAttribute('height', height);\n",
       "\n",
       "            // And update the size in Python. We ignore the initial 0/0 size\n",
       "            // that occurs as the element is placed into the DOM, which should\n",
       "            // otherwise not happen due to the minimum size styling.\n",
       "            if (fig.ws.readyState == 1 && width != 0 && height != 0) {\n",
       "                fig.request_resize(width, height);\n",
       "            }\n",
       "        }\n",
       "    });\n",
       "    this.resizeObserverInstance.observe(canvas_div);\n",
       "\n",
       "    function on_mouse_event_closure(name) {\n",
       "        return function (event) {\n",
       "            return fig.mouse_event(event, name);\n",
       "        };\n",
       "    }\n",
       "\n",
       "    rubberband_canvas.addEventListener(\n",
       "        'mousedown',\n",
       "        on_mouse_event_closure('button_press')\n",
       "    );\n",
       "    rubberband_canvas.addEventListener(\n",
       "        'mouseup',\n",
       "        on_mouse_event_closure('button_release')\n",
       "    );\n",
       "    rubberband_canvas.addEventListener(\n",
       "        'dblclick',\n",
       "        on_mouse_event_closure('dblclick')\n",
       "    );\n",
       "    // Throttle sequential mouse events to 1 every 20ms.\n",
       "    rubberband_canvas.addEventListener(\n",
       "        'mousemove',\n",
       "        on_mouse_event_closure('motion_notify')\n",
       "    );\n",
       "\n",
       "    rubberband_canvas.addEventListener(\n",
       "        'mouseenter',\n",
       "        on_mouse_event_closure('figure_enter')\n",
       "    );\n",
       "    rubberband_canvas.addEventListener(\n",
       "        'mouseleave',\n",
       "        on_mouse_event_closure('figure_leave')\n",
       "    );\n",
       "\n",
       "    canvas_div.addEventListener('wheel', function (event) {\n",
       "        if (event.deltaY < 0) {\n",
       "            event.step = 1;\n",
       "        } else {\n",
       "            event.step = -1;\n",
       "        }\n",
       "        on_mouse_event_closure('scroll')(event);\n",
       "    });\n",
       "\n",
       "    canvas_div.appendChild(canvas);\n",
       "    canvas_div.appendChild(rubberband_canvas);\n",
       "\n",
       "    this.rubberband_context = rubberband_canvas.getContext('2d');\n",
       "    this.rubberband_context.strokeStyle = '#000000';\n",
       "\n",
       "    this._resize_canvas = function (width, height, forward) {\n",
       "        if (forward) {\n",
       "            canvas_div.style.width = width + 'px';\n",
       "            canvas_div.style.height = height + 'px';\n",
       "        }\n",
       "    };\n",
       "\n",
       "    // Disable right mouse context menu.\n",
       "    this.rubberband_canvas.addEventListener('contextmenu', function (_e) {\n",
       "        event.preventDefault();\n",
       "        return false;\n",
       "    });\n",
       "\n",
       "    function set_focus() {\n",
       "        canvas.focus();\n",
       "        canvas_div.focus();\n",
       "    }\n",
       "\n",
       "    window.setTimeout(set_focus, 100);\n",
       "};\n",
       "\n",
       "mpl.figure.prototype._init_toolbar = function () {\n",
       "    var fig = this;\n",
       "\n",
       "    var toolbar = document.createElement('div');\n",
       "    toolbar.classList = 'mpl-toolbar';\n",
       "    this.root.appendChild(toolbar);\n",
       "\n",
       "    function on_click_closure(name) {\n",
       "        return function (_event) {\n",
       "            return fig.toolbar_button_onclick(name);\n",
       "        };\n",
       "    }\n",
       "\n",
       "    function on_mouseover_closure(tooltip) {\n",
       "        return function (event) {\n",
       "            if (!event.currentTarget.disabled) {\n",
       "                return fig.toolbar_button_onmouseover(tooltip);\n",
       "            }\n",
       "        };\n",
       "    }\n",
       "\n",
       "    fig.buttons = {};\n",
       "    var buttonGroup = document.createElement('div');\n",
       "    buttonGroup.classList = 'mpl-button-group';\n",
       "    for (var toolbar_ind in mpl.toolbar_items) {\n",
       "        var name = mpl.toolbar_items[toolbar_ind][0];\n",
       "        var tooltip = mpl.toolbar_items[toolbar_ind][1];\n",
       "        var image = mpl.toolbar_items[toolbar_ind][2];\n",
       "        var method_name = mpl.toolbar_items[toolbar_ind][3];\n",
       "\n",
       "        if (!name) {\n",
       "            /* Instead of a spacer, we start a new button group. */\n",
       "            if (buttonGroup.hasChildNodes()) {\n",
       "                toolbar.appendChild(buttonGroup);\n",
       "            }\n",
       "            buttonGroup = document.createElement('div');\n",
       "            buttonGroup.classList = 'mpl-button-group';\n",
       "            continue;\n",
       "        }\n",
       "\n",
       "        var button = (fig.buttons[name] = document.createElement('button'));\n",
       "        button.classList = 'mpl-widget';\n",
       "        button.setAttribute('role', 'button');\n",
       "        button.setAttribute('aria-disabled', 'false');\n",
       "        button.addEventListener('click', on_click_closure(method_name));\n",
       "        button.addEventListener('mouseover', on_mouseover_closure(tooltip));\n",
       "\n",
       "        var icon_img = document.createElement('img');\n",
       "        icon_img.src = '_images/' + image + '.png';\n",
       "        icon_img.srcset = '_images/' + image + '_large.png 2x';\n",
       "        icon_img.alt = tooltip;\n",
       "        button.appendChild(icon_img);\n",
       "\n",
       "        buttonGroup.appendChild(button);\n",
       "    }\n",
       "\n",
       "    if (buttonGroup.hasChildNodes()) {\n",
       "        toolbar.appendChild(buttonGroup);\n",
       "    }\n",
       "\n",
       "    var fmt_picker = document.createElement('select');\n",
       "    fmt_picker.classList = 'mpl-widget';\n",
       "    toolbar.appendChild(fmt_picker);\n",
       "    this.format_dropdown = fmt_picker;\n",
       "\n",
       "    for (var ind in mpl.extensions) {\n",
       "        var fmt = mpl.extensions[ind];\n",
       "        var option = document.createElement('option');\n",
       "        option.selected = fmt === mpl.default_extension;\n",
       "        option.innerHTML = fmt;\n",
       "        fmt_picker.appendChild(option);\n",
       "    }\n",
       "\n",
       "    var status_bar = document.createElement('span');\n",
       "    status_bar.classList = 'mpl-message';\n",
       "    toolbar.appendChild(status_bar);\n",
       "    this.message = status_bar;\n",
       "};\n",
       "\n",
       "mpl.figure.prototype.request_resize = function (x_pixels, y_pixels) {\n",
       "    // Request matplotlib to resize the figure. Matplotlib will then trigger a resize in the client,\n",
       "    // which will in turn request a refresh of the image.\n",
       "    this.send_message('resize', { width: x_pixels, height: y_pixels });\n",
       "};\n",
       "\n",
       "mpl.figure.prototype.send_message = function (type, properties) {\n",
       "    properties['type'] = type;\n",
       "    properties['figure_id'] = this.id;\n",
       "    this.ws.send(JSON.stringify(properties));\n",
       "};\n",
       "\n",
       "mpl.figure.prototype.send_draw_message = function () {\n",
       "    if (!this.waiting) {\n",
       "        this.waiting = true;\n",
       "        this.ws.send(JSON.stringify({ type: 'draw', figure_id: this.id }));\n",
       "    }\n",
       "};\n",
       "\n",
       "mpl.figure.prototype.handle_save = function (fig, _msg) {\n",
       "    var format_dropdown = fig.format_dropdown;\n",
       "    var format = format_dropdown.options[format_dropdown.selectedIndex].value;\n",
       "    fig.ondownload(fig, format);\n",
       "};\n",
       "\n",
       "mpl.figure.prototype.handle_resize = function (fig, msg) {\n",
       "    var size = msg['size'];\n",
       "    if (size[0] !== fig.canvas.width || size[1] !== fig.canvas.height) {\n",
       "        fig._resize_canvas(size[0], size[1], msg['forward']);\n",
       "        fig.send_message('refresh', {});\n",
       "    }\n",
       "};\n",
       "\n",
       "mpl.figure.prototype.handle_rubberband = function (fig, msg) {\n",
       "    var x0 = msg['x0'] / fig.ratio;\n",
       "    var y0 = (fig.canvas.height - msg['y0']) / fig.ratio;\n",
       "    var x1 = msg['x1'] / fig.ratio;\n",
       "    var y1 = (fig.canvas.height - msg['y1']) / fig.ratio;\n",
       "    x0 = Math.floor(x0) + 0.5;\n",
       "    y0 = Math.floor(y0) + 0.5;\n",
       "    x1 = Math.floor(x1) + 0.5;\n",
       "    y1 = Math.floor(y1) + 0.5;\n",
       "    var min_x = Math.min(x0, x1);\n",
       "    var min_y = Math.min(y0, y1);\n",
       "    var width = Math.abs(x1 - x0);\n",
       "    var height = Math.abs(y1 - y0);\n",
       "\n",
       "    fig.rubberband_context.clearRect(\n",
       "        0,\n",
       "        0,\n",
       "        fig.canvas.width / fig.ratio,\n",
       "        fig.canvas.height / fig.ratio\n",
       "    );\n",
       "\n",
       "    fig.rubberband_context.strokeRect(min_x, min_y, width, height);\n",
       "};\n",
       "\n",
       "mpl.figure.prototype.handle_figure_label = function (fig, msg) {\n",
       "    // Updates the figure title.\n",
       "    fig.header.textContent = msg['label'];\n",
       "};\n",
       "\n",
       "mpl.figure.prototype.handle_cursor = function (fig, msg) {\n",
       "    var cursor = msg['cursor'];\n",
       "    switch (cursor) {\n",
       "        case 0:\n",
       "            cursor = 'pointer';\n",
       "            break;\n",
       "        case 1:\n",
       "            cursor = 'default';\n",
       "            break;\n",
       "        case 2:\n",
       "            cursor = 'crosshair';\n",
       "            break;\n",
       "        case 3:\n",
       "            cursor = 'move';\n",
       "            break;\n",
       "    }\n",
       "    fig.rubberband_canvas.style.cursor = cursor;\n",
       "};\n",
       "\n",
       "mpl.figure.prototype.handle_message = function (fig, msg) {\n",
       "    fig.message.textContent = msg['message'];\n",
       "};\n",
       "\n",
       "mpl.figure.prototype.handle_draw = function (fig, _msg) {\n",
       "    // Request the server to send over a new figure.\n",
       "    fig.send_draw_message();\n",
       "};\n",
       "\n",
       "mpl.figure.prototype.handle_image_mode = function (fig, msg) {\n",
       "    fig.image_mode = msg['mode'];\n",
       "};\n",
       "\n",
       "mpl.figure.prototype.handle_history_buttons = function (fig, msg) {\n",
       "    for (var key in msg) {\n",
       "        if (!(key in fig.buttons)) {\n",
       "            continue;\n",
       "        }\n",
       "        fig.buttons[key].disabled = !msg[key];\n",
       "        fig.buttons[key].setAttribute('aria-disabled', !msg[key]);\n",
       "    }\n",
       "};\n",
       "\n",
       "mpl.figure.prototype.handle_navigate_mode = function (fig, msg) {\n",
       "    if (msg['mode'] === 'PAN') {\n",
       "        fig.buttons['Pan'].classList.add('active');\n",
       "        fig.buttons['Zoom'].classList.remove('active');\n",
       "    } else if (msg['mode'] === 'ZOOM') {\n",
       "        fig.buttons['Pan'].classList.remove('active');\n",
       "        fig.buttons['Zoom'].classList.add('active');\n",
       "    } else {\n",
       "        fig.buttons['Pan'].classList.remove('active');\n",
       "        fig.buttons['Zoom'].classList.remove('active');\n",
       "    }\n",
       "};\n",
       "\n",
       "mpl.figure.prototype.updated_canvas_event = function () {\n",
       "    // Called whenever the canvas gets updated.\n",
       "    this.send_message('ack', {});\n",
       "};\n",
       "\n",
       "// A function to construct a web socket function for onmessage handling.\n",
       "// Called in the figure constructor.\n",
       "mpl.figure.prototype._make_on_message_function = function (fig) {\n",
       "    return function socket_on_message(evt) {\n",
       "        if (evt.data instanceof Blob) {\n",
       "            var img = evt.data;\n",
       "            if (img.type !== 'image/png') {\n",
       "                /* FIXME: We get \"Resource interpreted as Image but\n",
       "                 * transferred with MIME type text/plain:\" errors on\n",
       "                 * Chrome.  But how to set the MIME type?  It doesn't seem\n",
       "                 * to be part of the websocket stream */\n",
       "                img.type = 'image/png';\n",
       "            }\n",
       "\n",
       "            /* Free the memory for the previous frames */\n",
       "            if (fig.imageObj.src) {\n",
       "                (window.URL || window.webkitURL).revokeObjectURL(\n",
       "                    fig.imageObj.src\n",
       "                );\n",
       "            }\n",
       "\n",
       "            fig.imageObj.src = (window.URL || window.webkitURL).createObjectURL(\n",
       "                img\n",
       "            );\n",
       "            fig.updated_canvas_event();\n",
       "            fig.waiting = false;\n",
       "            return;\n",
       "        } else if (\n",
       "            typeof evt.data === 'string' &&\n",
       "            evt.data.slice(0, 21) === 'data:image/png;base64'\n",
       "        ) {\n",
       "            fig.imageObj.src = evt.data;\n",
       "            fig.updated_canvas_event();\n",
       "            fig.waiting = false;\n",
       "            return;\n",
       "        }\n",
       "\n",
       "        var msg = JSON.parse(evt.data);\n",
       "        var msg_type = msg['type'];\n",
       "\n",
       "        // Call the  \"handle_{type}\" callback, which takes\n",
       "        // the figure and JSON message as its only arguments.\n",
       "        try {\n",
       "            var callback = fig['handle_' + msg_type];\n",
       "        } catch (e) {\n",
       "            console.log(\n",
       "                \"No handler for the '\" + msg_type + \"' message type: \",\n",
       "                msg\n",
       "            );\n",
       "            return;\n",
       "        }\n",
       "\n",
       "        if (callback) {\n",
       "            try {\n",
       "                // console.log(\"Handling '\" + msg_type + \"' message: \", msg);\n",
       "                callback(fig, msg);\n",
       "            } catch (e) {\n",
       "                console.log(\n",
       "                    \"Exception inside the 'handler_\" + msg_type + \"' callback:\",\n",
       "                    e,\n",
       "                    e.stack,\n",
       "                    msg\n",
       "                );\n",
       "            }\n",
       "        }\n",
       "    };\n",
       "};\n",
       "\n",
       "// from http://stackoverflow.com/questions/1114465/getting-mouse-location-in-canvas\n",
       "mpl.findpos = function (e) {\n",
       "    //this section is from http://www.quirksmode.org/js/events_properties.html\n",
       "    var targ;\n",
       "    if (!e) {\n",
       "        e = window.event;\n",
       "    }\n",
       "    if (e.target) {\n",
       "        targ = e.target;\n",
       "    } else if (e.srcElement) {\n",
       "        targ = e.srcElement;\n",
       "    }\n",
       "    if (targ.nodeType === 3) {\n",
       "        // defeat Safari bug\n",
       "        targ = targ.parentNode;\n",
       "    }\n",
       "\n",
       "    // pageX,Y are the mouse positions relative to the document\n",
       "    var boundingRect = targ.getBoundingClientRect();\n",
       "    var x = e.pageX - (boundingRect.left + document.body.scrollLeft);\n",
       "    var y = e.pageY - (boundingRect.top + document.body.scrollTop);\n",
       "\n",
       "    return { x: x, y: y };\n",
       "};\n",
       "\n",
       "/*\n",
       " * return a copy of an object with only non-object keys\n",
       " * we need this to avoid circular references\n",
       " * http://stackoverflow.com/a/24161582/3208463\n",
       " */\n",
       "function simpleKeys(original) {\n",
       "    return Object.keys(original).reduce(function (obj, key) {\n",
       "        if (typeof original[key] !== 'object') {\n",
       "            obj[key] = original[key];\n",
       "        }\n",
       "        return obj;\n",
       "    }, {});\n",
       "}\n",
       "\n",
       "mpl.figure.prototype.mouse_event = function (event, name) {\n",
       "    var canvas_pos = mpl.findpos(event);\n",
       "\n",
       "    if (name === 'button_press') {\n",
       "        this.canvas.focus();\n",
       "        this.canvas_div.focus();\n",
       "    }\n",
       "\n",
       "    var x = canvas_pos.x * this.ratio;\n",
       "    var y = canvas_pos.y * this.ratio;\n",
       "\n",
       "    this.send_message(name, {\n",
       "        x: x,\n",
       "        y: y,\n",
       "        button: event.button,\n",
       "        step: event.step,\n",
       "        guiEvent: simpleKeys(event),\n",
       "    });\n",
       "\n",
       "    /* This prevents the web browser from automatically changing to\n",
       "     * the text insertion cursor when the button is pressed.  We want\n",
       "     * to control all of the cursor setting manually through the\n",
       "     * 'cursor' event from matplotlib */\n",
       "    event.preventDefault();\n",
       "    return false;\n",
       "};\n",
       "\n",
       "mpl.figure.prototype._key_event_extra = function (_event, _name) {\n",
       "    // Handle any extra behaviour associated with a key event\n",
       "};\n",
       "\n",
       "mpl.figure.prototype.key_event = function (event, name) {\n",
       "    // Prevent repeat events\n",
       "    if (name === 'key_press') {\n",
       "        if (event.key === this._key) {\n",
       "            return;\n",
       "        } else {\n",
       "            this._key = event.key;\n",
       "        }\n",
       "    }\n",
       "    if (name === 'key_release') {\n",
       "        this._key = null;\n",
       "    }\n",
       "\n",
       "    var value = '';\n",
       "    if (event.ctrlKey && event.key !== 'Control') {\n",
       "        value += 'ctrl+';\n",
       "    }\n",
       "    else if (event.altKey && event.key !== 'Alt') {\n",
       "        value += 'alt+';\n",
       "    }\n",
       "    else if (event.shiftKey && event.key !== 'Shift') {\n",
       "        value += 'shift+';\n",
       "    }\n",
       "\n",
       "    value += 'k' + event.key;\n",
       "\n",
       "    this._key_event_extra(event, name);\n",
       "\n",
       "    this.send_message(name, { key: value, guiEvent: simpleKeys(event) });\n",
       "    return false;\n",
       "};\n",
       "\n",
       "mpl.figure.prototype.toolbar_button_onclick = function (name) {\n",
       "    if (name === 'download') {\n",
       "        this.handle_save(this, null);\n",
       "    } else {\n",
       "        this.send_message('toolbar_button', { name: name });\n",
       "    }\n",
       "};\n",
       "\n",
       "mpl.figure.prototype.toolbar_button_onmouseover = function (tooltip) {\n",
       "    this.message.textContent = tooltip;\n",
       "};\n",
       "\n",
       "///////////////// REMAINING CONTENT GENERATED BY embed_js.py /////////////////\n",
       "// prettier-ignore\n",
       "var _JSXTOOLS_RESIZE_OBSERVER=function(A){var t,i=new WeakMap,n=new WeakMap,a=new WeakMap,r=new WeakMap,o=new Set;function s(e){if(!(this instanceof s))throw new TypeError(\"Constructor requires 'new' operator\");i.set(this,e)}function h(){throw new TypeError(\"Function is not a constructor\")}function c(e,t,i,n){e=0 in arguments?Number(arguments[0]):0,t=1 in arguments?Number(arguments[1]):0,i=2 in arguments?Number(arguments[2]):0,n=3 in arguments?Number(arguments[3]):0,this.right=(this.x=this.left=e)+(this.width=i),this.bottom=(this.y=this.top=t)+(this.height=n),Object.freeze(this)}function d(){t=requestAnimationFrame(d);var s=new WeakMap,p=new Set;o.forEach((function(t){r.get(t).forEach((function(i){var r=t instanceof window.SVGElement,o=a.get(t),d=r?0:parseFloat(o.paddingTop),f=r?0:parseFloat(o.paddingRight),l=r?0:parseFloat(o.paddingBottom),u=r?0:parseFloat(o.paddingLeft),g=r?0:parseFloat(o.borderTopWidth),m=r?0:parseFloat(o.borderRightWidth),w=r?0:parseFloat(o.borderBottomWidth),b=u+f,F=d+l,v=(r?0:parseFloat(o.borderLeftWidth))+m,W=g+w,y=r?0:t.offsetHeight-W-t.clientHeight,E=r?0:t.offsetWidth-v-t.clientWidth,R=b+v,z=F+W,M=r?t.width:parseFloat(o.width)-R-E,O=r?t.height:parseFloat(o.height)-z-y;if(n.has(t)){var k=n.get(t);if(k[0]===M&&k[1]===O)return}n.set(t,[M,O]);var S=Object.create(h.prototype);S.target=t,S.contentRect=new c(u,d,M,O),s.has(i)||(s.set(i,[]),p.add(i)),s.get(i).push(S)}))})),p.forEach((function(e){i.get(e).call(e,s.get(e),e)}))}return s.prototype.observe=function(i){if(i instanceof window.Element){r.has(i)||(r.set(i,new Set),o.add(i),a.set(i,window.getComputedStyle(i)));var n=r.get(i);n.has(this)||n.add(this),cancelAnimationFrame(t),t=requestAnimationFrame(d)}},s.prototype.unobserve=function(i){if(i instanceof window.Element&&r.has(i)){var n=r.get(i);n.has(this)&&(n.delete(this),n.size||(r.delete(i),o.delete(i))),n.size||r.delete(i),o.size||cancelAnimationFrame(t)}},A.DOMRectReadOnly=c,A.ResizeObserver=s,A.ResizeObserverEntry=h,A}; // eslint-disable-line\n",
       "mpl.toolbar_items = [[\"Home\", \"Reset original view\", \"fa fa-home icon-home\", \"home\"], [\"Back\", \"Back to previous view\", \"fa fa-arrow-left icon-arrow-left\", \"back\"], [\"Forward\", \"Forward to next view\", \"fa fa-arrow-right icon-arrow-right\", \"forward\"], [\"\", \"\", \"\", \"\"], [\"Pan\", \"Left button pans, Right button zooms\\nx/y fixes axis, CTRL fixes aspect\", \"fa fa-arrows icon-move\", \"pan\"], [\"Zoom\", \"Zoom to rectangle\\nx/y fixes axis, CTRL fixes aspect\", \"fa fa-square-o icon-check-empty\", \"zoom\"], [\"\", \"\", \"\", \"\"], [\"Download\", \"Download plot\", \"fa fa-floppy-o icon-save\", \"download\"]];\n",
       "\n",
       "mpl.extensions = [\"eps\", \"jpeg\", \"pgf\", \"pdf\", \"png\", \"ps\", \"raw\", \"svg\", \"tif\"];\n",
       "\n",
       "mpl.default_extension = \"png\";/* global mpl */\n",
       "\n",
       "var comm_websocket_adapter = function (comm) {\n",
       "    // Create a \"websocket\"-like object which calls the given IPython comm\n",
       "    // object with the appropriate methods. Currently this is a non binary\n",
       "    // socket, so there is still some room for performance tuning.\n",
       "    var ws = {};\n",
       "\n",
       "    ws.binaryType = comm.kernel.ws.binaryType;\n",
       "    ws.readyState = comm.kernel.ws.readyState;\n",
       "    function updateReadyState(_event) {\n",
       "        if (comm.kernel.ws) {\n",
       "            ws.readyState = comm.kernel.ws.readyState;\n",
       "        } else {\n",
       "            ws.readyState = 3; // Closed state.\n",
       "        }\n",
       "    }\n",
       "    comm.kernel.ws.addEventListener('open', updateReadyState);\n",
       "    comm.kernel.ws.addEventListener('close', updateReadyState);\n",
       "    comm.kernel.ws.addEventListener('error', updateReadyState);\n",
       "\n",
       "    ws.close = function () {\n",
       "        comm.close();\n",
       "    };\n",
       "    ws.send = function (m) {\n",
       "        //console.log('sending', m);\n",
       "        comm.send(m);\n",
       "    };\n",
       "    // Register the callback with on_msg.\n",
       "    comm.on_msg(function (msg) {\n",
       "        //console.log('receiving', msg['content']['data'], msg);\n",
       "        var data = msg['content']['data'];\n",
       "        if (data['blob'] !== undefined) {\n",
       "            data = {\n",
       "                data: new Blob(msg['buffers'], { type: data['blob'] }),\n",
       "            };\n",
       "        }\n",
       "        // Pass the mpl event to the overridden (by mpl) onmessage function.\n",
       "        ws.onmessage(data);\n",
       "    });\n",
       "    return ws;\n",
       "};\n",
       "\n",
       "mpl.mpl_figure_comm = function (comm, msg) {\n",
       "    // This is the function which gets called when the mpl process\n",
       "    // starts-up an IPython Comm through the \"matplotlib\" channel.\n",
       "\n",
       "    var id = msg.content.data.id;\n",
       "    // Get hold of the div created by the display call when the Comm\n",
       "    // socket was opened in Python.\n",
       "    var element = document.getElementById(id);\n",
       "    var ws_proxy = comm_websocket_adapter(comm);\n",
       "\n",
       "    function ondownload(figure, _format) {\n",
       "        window.open(figure.canvas.toDataURL());\n",
       "    }\n",
       "\n",
       "    var fig = new mpl.figure(id, ws_proxy, ondownload, element);\n",
       "\n",
       "    // Call onopen now - mpl needs it, as it is assuming we've passed it a real\n",
       "    // web socket which is closed, not our websocket->open comm proxy.\n",
       "    ws_proxy.onopen();\n",
       "\n",
       "    fig.parent_element = element;\n",
       "    fig.cell_info = mpl.find_output_cell(\"<div id='\" + id + \"'></div>\");\n",
       "    if (!fig.cell_info) {\n",
       "        console.error('Failed to find cell for figure', id, fig);\n",
       "        return;\n",
       "    }\n",
       "    fig.cell_info[0].output_area.element.on(\n",
       "        'cleared',\n",
       "        { fig: fig },\n",
       "        fig._remove_fig_handler\n",
       "    );\n",
       "};\n",
       "\n",
       "mpl.figure.prototype.handle_close = function (fig, msg) {\n",
       "    var width = fig.canvas.width / fig.ratio;\n",
       "    fig.cell_info[0].output_area.element.off(\n",
       "        'cleared',\n",
       "        fig._remove_fig_handler\n",
       "    );\n",
       "    fig.resizeObserverInstance.unobserve(fig.canvas_div);\n",
       "\n",
       "    // Update the output cell to use the data from the current canvas.\n",
       "    fig.push_to_output();\n",
       "    var dataURL = fig.canvas.toDataURL();\n",
       "    // Re-enable the keyboard manager in IPython - without this line, in FF,\n",
       "    // the notebook keyboard shortcuts fail.\n",
       "    IPython.keyboard_manager.enable();\n",
       "    fig.parent_element.innerHTML =\n",
       "        '<img src=\"' + dataURL + '\" width=\"' + width + '\">';\n",
       "    fig.close_ws(fig, msg);\n",
       "};\n",
       "\n",
       "mpl.figure.prototype.close_ws = function (fig, msg) {\n",
       "    fig.send_message('closing', msg);\n",
       "    // fig.ws.close()\n",
       "};\n",
       "\n",
       "mpl.figure.prototype.push_to_output = function (_remove_interactive) {\n",
       "    // Turn the data on the canvas into data in the output cell.\n",
       "    var width = this.canvas.width / this.ratio;\n",
       "    var dataURL = this.canvas.toDataURL();\n",
       "    this.cell_info[1]['text/html'] =\n",
       "        '<img src=\"' + dataURL + '\" width=\"' + width + '\">';\n",
       "};\n",
       "\n",
       "mpl.figure.prototype.updated_canvas_event = function () {\n",
       "    // Tell IPython that the notebook contents must change.\n",
       "    IPython.notebook.set_dirty(true);\n",
       "    this.send_message('ack', {});\n",
       "    var fig = this;\n",
       "    // Wait a second, then push the new image to the DOM so\n",
       "    // that it is saved nicely (might be nice to debounce this).\n",
       "    setTimeout(function () {\n",
       "        fig.push_to_output();\n",
       "    }, 1000);\n",
       "};\n",
       "\n",
       "mpl.figure.prototype._init_toolbar = function () {\n",
       "    var fig = this;\n",
       "\n",
       "    var toolbar = document.createElement('div');\n",
       "    toolbar.classList = 'btn-toolbar';\n",
       "    this.root.appendChild(toolbar);\n",
       "\n",
       "    function on_click_closure(name) {\n",
       "        return function (_event) {\n",
       "            return fig.toolbar_button_onclick(name);\n",
       "        };\n",
       "    }\n",
       "\n",
       "    function on_mouseover_closure(tooltip) {\n",
       "        return function (event) {\n",
       "            if (!event.currentTarget.disabled) {\n",
       "                return fig.toolbar_button_onmouseover(tooltip);\n",
       "            }\n",
       "        };\n",
       "    }\n",
       "\n",
       "    fig.buttons = {};\n",
       "    var buttonGroup = document.createElement('div');\n",
       "    buttonGroup.classList = 'btn-group';\n",
       "    var button;\n",
       "    for (var toolbar_ind in mpl.toolbar_items) {\n",
       "        var name = mpl.toolbar_items[toolbar_ind][0];\n",
       "        var tooltip = mpl.toolbar_items[toolbar_ind][1];\n",
       "        var image = mpl.toolbar_items[toolbar_ind][2];\n",
       "        var method_name = mpl.toolbar_items[toolbar_ind][3];\n",
       "\n",
       "        if (!name) {\n",
       "            /* Instead of a spacer, we start a new button group. */\n",
       "            if (buttonGroup.hasChildNodes()) {\n",
       "                toolbar.appendChild(buttonGroup);\n",
       "            }\n",
       "            buttonGroup = document.createElement('div');\n",
       "            buttonGroup.classList = 'btn-group';\n",
       "            continue;\n",
       "        }\n",
       "\n",
       "        button = fig.buttons[name] = document.createElement('button');\n",
       "        button.classList = 'btn btn-default';\n",
       "        button.href = '#';\n",
       "        button.title = name;\n",
       "        button.innerHTML = '<i class=\"fa ' + image + ' fa-lg\"></i>';\n",
       "        button.addEventListener('click', on_click_closure(method_name));\n",
       "        button.addEventListener('mouseover', on_mouseover_closure(tooltip));\n",
       "        buttonGroup.appendChild(button);\n",
       "    }\n",
       "\n",
       "    if (buttonGroup.hasChildNodes()) {\n",
       "        toolbar.appendChild(buttonGroup);\n",
       "    }\n",
       "\n",
       "    // Add the status bar.\n",
       "    var status_bar = document.createElement('span');\n",
       "    status_bar.classList = 'mpl-message pull-right';\n",
       "    toolbar.appendChild(status_bar);\n",
       "    this.message = status_bar;\n",
       "\n",
       "    // Add the close button to the window.\n",
       "    var buttongrp = document.createElement('div');\n",
       "    buttongrp.classList = 'btn-group inline pull-right';\n",
       "    button = document.createElement('button');\n",
       "    button.classList = 'btn btn-mini btn-primary';\n",
       "    button.href = '#';\n",
       "    button.title = 'Stop Interaction';\n",
       "    button.innerHTML = '<i class=\"fa fa-power-off icon-remove icon-large\"></i>';\n",
       "    button.addEventListener('click', function (_evt) {\n",
       "        fig.handle_close(fig, {});\n",
       "    });\n",
       "    button.addEventListener(\n",
       "        'mouseover',\n",
       "        on_mouseover_closure('Stop Interaction')\n",
       "    );\n",
       "    buttongrp.appendChild(button);\n",
       "    var titlebar = this.root.querySelector('.ui-dialog-titlebar');\n",
       "    titlebar.insertBefore(buttongrp, titlebar.firstChild);\n",
       "};\n",
       "\n",
       "mpl.figure.prototype._remove_fig_handler = function (event) {\n",
       "    var fig = event.data.fig;\n",
       "    if (event.target !== this) {\n",
       "        // Ignore bubbled events from children.\n",
       "        return;\n",
       "    }\n",
       "    fig.close_ws(fig, {});\n",
       "};\n",
       "\n",
       "mpl.figure.prototype._root_extra_style = function (el) {\n",
       "    el.style.boxSizing = 'content-box'; // override notebook setting of border-box.\n",
       "};\n",
       "\n",
       "mpl.figure.prototype._canvas_extra_style = function (el) {\n",
       "    // this is important to make the div 'focusable\n",
       "    el.setAttribute('tabindex', 0);\n",
       "    // reach out to IPython and tell the keyboard manager to turn it's self\n",
       "    // off when our div gets focus\n",
       "\n",
       "    // location in version 3\n",
       "    if (IPython.notebook.keyboard_manager) {\n",
       "        IPython.notebook.keyboard_manager.register_events(el);\n",
       "    } else {\n",
       "        // location in version 2\n",
       "        IPython.keyboard_manager.register_events(el);\n",
       "    }\n",
       "};\n",
       "\n",
       "mpl.figure.prototype._key_event_extra = function (event, _name) {\n",
       "    var manager = IPython.notebook.keyboard_manager;\n",
       "    if (!manager) {\n",
       "        manager = IPython.keyboard_manager;\n",
       "    }\n",
       "\n",
       "    // Check for shift+enter\n",
       "    if (event.shiftKey && event.which === 13) {\n",
       "        this.canvas_div.blur();\n",
       "        // select the cell after this one\n",
       "        var index = IPython.notebook.find_cell_index(this.cell_info[0]);\n",
       "        IPython.notebook.select(index + 1);\n",
       "    }\n",
       "};\n",
       "\n",
       "mpl.figure.prototype.handle_save = function (fig, _msg) {\n",
       "    fig.ondownload(fig, null);\n",
       "};\n",
       "\n",
       "mpl.find_output_cell = function (html_output) {\n",
       "    // Return the cell and output element which can be found *uniquely* in the notebook.\n",
       "    // Note - this is a bit hacky, but it is done because the \"notebook_saving.Notebook\"\n",
       "    // IPython event is triggered only after the cells have been serialised, which for\n",
       "    // our purposes (turning an active figure into a static one), is too late.\n",
       "    var cells = IPython.notebook.get_cells();\n",
       "    var ncells = cells.length;\n",
       "    for (var i = 0; i < ncells; i++) {\n",
       "        var cell = cells[i];\n",
       "        if (cell.cell_type === 'code') {\n",
       "            for (var j = 0; j < cell.output_area.outputs.length; j++) {\n",
       "                var data = cell.output_area.outputs[j];\n",
       "                if (data.data) {\n",
       "                    // IPython >= 3 moved mimebundle to data attribute of output\n",
       "                    data = data.data;\n",
       "                }\n",
       "                if (data['text/html'] === html_output) {\n",
       "                    return [cell, data, j];\n",
       "                }\n",
       "            }\n",
       "        }\n",
       "    }\n",
       "};\n",
       "\n",
       "// Register the function which deals with the matplotlib target/channel.\n",
       "// The kernel may be null if the page has been refreshed.\n",
       "if (IPython.notebook.kernel !== null) {\n",
       "    IPython.notebook.kernel.comm_manager.register_target(\n",
       "        'matplotlib',\n",
       "        mpl.mpl_figure_comm\n",
       "    );\n",
       "}\n"
      ],
      "text/plain": [
       "<IPython.core.display.Javascript object>"
      ]
     },
     "metadata": {},
     "output_type": "display_data"
    },
    {
     "data": {
      "text/html": [
       "<img src=\"data:image/png;base64,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\" width=\"1400\">"
      ],
      "text/plain": [
       "<IPython.core.display.HTML object>"
      ]
     },
     "metadata": {},
     "output_type": "display_data"
    }
   ],
   "source": [
    "from matplotlib.animation import FuncAnimation\n",
    "\n",
    "\n",
    "fig = plt.figure(figsize=(14,7))\n",
    "ax1 = plt.subplot(121)\n",
    "ax2 = plt.subplot(222)\n",
    "ax3 = plt.subplot(224)\n",
    "pi_ani = PiAnimation(ax1, ax2, ax3)\n",
    "anim = FuncAnimation(fig, pi_ani, frames=10_000, interval=50, blit=True)\n",
    "plt.show()\n"
   ]
  },
  {
   "cell_type": "code",
   "execution_count": null,
   "metadata": {},
   "outputs": [],
   "source": []
  },
  {
   "cell_type": "code",
   "execution_count": null,
   "metadata": {},
   "outputs": [],
   "source": []
  }
 ],
 "metadata": {
  "kernelspec": {
   "display_name": "Python 3 (ipykernel)",
   "language": "python",
   "name": "python3"
  },
  "language_info": {
   "codemirror_mode": {
    "name": "ipython",
    "version": 3
   },
   "file_extension": ".py",
   "mimetype": "text/x-python",
   "name": "python",
   "nbconvert_exporter": "python",
   "pygments_lexer": "ipython3",
   "version": "3.8.11"
  }
 },
 "nbformat": 4,
 "nbformat_minor": 4
}
